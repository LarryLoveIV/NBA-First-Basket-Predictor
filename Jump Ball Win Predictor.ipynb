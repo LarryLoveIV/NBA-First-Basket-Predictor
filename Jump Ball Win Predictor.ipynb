{
 "cells": [
  {
   "cell_type": "code",
   "execution_count": 1,
   "id": "dfb4bf25",
   "metadata": {},
   "outputs": [],
   "source": [
    "import pandas as pd\n",
    "import numpy as np\n",
    "import matplotlib.pyplot as plt\n",
    "import seaborn as sns\n",
    "import time\n",
    "import os\n",
    "from numpy import random\n",
    "pd.set_option('display.max_columns', None)"
   ]
  },
  {
   "cell_type": "code",
   "execution_count": 2,
   "id": "6fefbfe7",
   "metadata": {},
   "outputs": [],
   "source": [
    "from nba_api.stats.endpoints import playbyplayv2\n",
    "from nba_api.stats.endpoints import leaguegamelog\n",
    "from nba_api.stats.endpoints import commonplayerinfo\n",
    "from nba_api.stats.endpoints import draftcombinestats"
   ]
  },
  {
   "cell_type": "code",
   "execution_count": 3,
   "id": "fd467e72",
   "metadata": {},
   "outputs": [],
   "source": [
    "game_ids = leaguegamelog.LeagueGameLog().get_data_frames()[0]['GAME_ID'].drop_duplicates().reset_index(drop=True)"
   ]
  },
  {
   "cell_type": "code",
   "execution_count": 4,
   "id": "641fc94f",
   "metadata": {},
   "outputs": [],
   "source": [
    "game_logs = playbyplayv2.PlayByPlayV2(game_id='0022100717').get_data_frames()[0]"
   ]
  },
  {
   "cell_type": "code",
   "execution_count": 5,
   "id": "3a86ec2a",
   "metadata": {},
   "outputs": [
    {
     "data": {
      "text/html": [
       "<div>\n",
       "<style scoped>\n",
       "    .dataframe tbody tr th:only-of-type {\n",
       "        vertical-align: middle;\n",
       "    }\n",
       "\n",
       "    .dataframe tbody tr th {\n",
       "        vertical-align: top;\n",
       "    }\n",
       "\n",
       "    .dataframe thead th {\n",
       "        text-align: right;\n",
       "    }\n",
       "</style>\n",
       "<table border=\"1\" class=\"dataframe\">\n",
       "  <thead>\n",
       "    <tr style=\"text-align: right;\">\n",
       "      <th></th>\n",
       "      <th>GAME_ID</th>\n",
       "      <th>EVENTNUM</th>\n",
       "      <th>EVENTMSGTYPE</th>\n",
       "      <th>EVENTMSGACTIONTYPE</th>\n",
       "      <th>PERIOD</th>\n",
       "      <th>WCTIMESTRING</th>\n",
       "      <th>PCTIMESTRING</th>\n",
       "      <th>HOMEDESCRIPTION</th>\n",
       "      <th>NEUTRALDESCRIPTION</th>\n",
       "      <th>VISITORDESCRIPTION</th>\n",
       "      <th>SCORE</th>\n",
       "      <th>SCOREMARGIN</th>\n",
       "      <th>PERSON1TYPE</th>\n",
       "      <th>PLAYER1_ID</th>\n",
       "      <th>PLAYER1_NAME</th>\n",
       "      <th>PLAYER1_TEAM_ID</th>\n",
       "      <th>PLAYER1_TEAM_CITY</th>\n",
       "      <th>PLAYER1_TEAM_NICKNAME</th>\n",
       "      <th>PLAYER1_TEAM_ABBREVIATION</th>\n",
       "      <th>PERSON2TYPE</th>\n",
       "      <th>PLAYER2_ID</th>\n",
       "      <th>PLAYER2_NAME</th>\n",
       "      <th>PLAYER2_TEAM_ID</th>\n",
       "      <th>PLAYER2_TEAM_CITY</th>\n",
       "      <th>PLAYER2_TEAM_NICKNAME</th>\n",
       "      <th>PLAYER2_TEAM_ABBREVIATION</th>\n",
       "      <th>PERSON3TYPE</th>\n",
       "      <th>PLAYER3_ID</th>\n",
       "      <th>PLAYER3_NAME</th>\n",
       "      <th>PLAYER3_TEAM_ID</th>\n",
       "      <th>PLAYER3_TEAM_CITY</th>\n",
       "      <th>PLAYER3_TEAM_NICKNAME</th>\n",
       "      <th>PLAYER3_TEAM_ABBREVIATION</th>\n",
       "      <th>VIDEO_AVAILABLE_FLAG</th>\n",
       "    </tr>\n",
       "  </thead>\n",
       "  <tbody>\n",
       "    <tr>\n",
       "      <th>0</th>\n",
       "      <td>0022100717</td>\n",
       "      <td>2</td>\n",
       "      <td>12</td>\n",
       "      <td>0</td>\n",
       "      <td>1</td>\n",
       "      <td>7:41 PM</td>\n",
       "      <td>12:00</td>\n",
       "      <td>None</td>\n",
       "      <td>Start of 1st Period (7:41 PM EST)</td>\n",
       "      <td>None</td>\n",
       "      <td>None</td>\n",
       "      <td>None</td>\n",
       "      <td>0</td>\n",
       "      <td>0</td>\n",
       "      <td>None</td>\n",
       "      <td>NaN</td>\n",
       "      <td>None</td>\n",
       "      <td>None</td>\n",
       "      <td>None</td>\n",
       "      <td>0</td>\n",
       "      <td>0</td>\n",
       "      <td>None</td>\n",
       "      <td>NaN</td>\n",
       "      <td>None</td>\n",
       "      <td>None</td>\n",
       "      <td>None</td>\n",
       "      <td>0</td>\n",
       "      <td>0</td>\n",
       "      <td>None</td>\n",
       "      <td>NaN</td>\n",
       "      <td>None</td>\n",
       "      <td>None</td>\n",
       "      <td>None</td>\n",
       "      <td>1</td>\n",
       "    </tr>\n",
       "    <tr>\n",
       "      <th>1</th>\n",
       "      <td>0022100717</td>\n",
       "      <td>4</td>\n",
       "      <td>7</td>\n",
       "      <td>4</td>\n",
       "      <td>1</td>\n",
       "      <td>7:41 PM</td>\n",
       "      <td>12:00</td>\n",
       "      <td>Williams III Violation:Jump Ball (C.Washington)</td>\n",
       "      <td>None</td>\n",
       "      <td>None</td>\n",
       "      <td>None</td>\n",
       "      <td>None</td>\n",
       "      <td>4</td>\n",
       "      <td>1629057</td>\n",
       "      <td>Robert Williams III</td>\n",
       "      <td>1.610613e+09</td>\n",
       "      <td>Boston</td>\n",
       "      <td>Celtics</td>\n",
       "      <td>BOS</td>\n",
       "      <td>0</td>\n",
       "      <td>0</td>\n",
       "      <td>None</td>\n",
       "      <td>NaN</td>\n",
       "      <td>None</td>\n",
       "      <td>None</td>\n",
       "      <td>None</td>\n",
       "      <td>1</td>\n",
       "      <td>0</td>\n",
       "      <td>None</td>\n",
       "      <td>NaN</td>\n",
       "      <td>None</td>\n",
       "      <td>None</td>\n",
       "      <td>None</td>\n",
       "      <td>0</td>\n",
       "    </tr>\n",
       "  </tbody>\n",
       "</table>\n",
       "</div>"
      ],
      "text/plain": [
       "      GAME_ID  EVENTNUM  EVENTMSGTYPE  EVENTMSGACTIONTYPE  PERIOD  \\\n",
       "0  0022100717         2            12                   0       1   \n",
       "1  0022100717         4             7                   4       1   \n",
       "\n",
       "  WCTIMESTRING PCTIMESTRING                                  HOMEDESCRIPTION  \\\n",
       "0      7:41 PM        12:00                                             None   \n",
       "1      7:41 PM        12:00  Williams III Violation:Jump Ball (C.Washington)   \n",
       "\n",
       "                  NEUTRALDESCRIPTION VISITORDESCRIPTION SCORE SCOREMARGIN  \\\n",
       "0  Start of 1st Period (7:41 PM EST)               None  None        None   \n",
       "1                               None               None  None        None   \n",
       "\n",
       "   PERSON1TYPE  PLAYER1_ID         PLAYER1_NAME  PLAYER1_TEAM_ID  \\\n",
       "0            0           0                 None              NaN   \n",
       "1            4     1629057  Robert Williams III     1.610613e+09   \n",
       "\n",
       "  PLAYER1_TEAM_CITY PLAYER1_TEAM_NICKNAME PLAYER1_TEAM_ABBREVIATION  \\\n",
       "0              None                  None                      None   \n",
       "1            Boston               Celtics                       BOS   \n",
       "\n",
       "   PERSON2TYPE  PLAYER2_ID PLAYER2_NAME  PLAYER2_TEAM_ID PLAYER2_TEAM_CITY  \\\n",
       "0            0           0         None              NaN              None   \n",
       "1            0           0         None              NaN              None   \n",
       "\n",
       "  PLAYER2_TEAM_NICKNAME PLAYER2_TEAM_ABBREVIATION  PERSON3TYPE  PLAYER3_ID  \\\n",
       "0                  None                      None            0           0   \n",
       "1                  None                      None            1           0   \n",
       "\n",
       "  PLAYER3_NAME  PLAYER3_TEAM_ID PLAYER3_TEAM_CITY PLAYER3_TEAM_NICKNAME  \\\n",
       "0         None              NaN              None                  None   \n",
       "1         None              NaN              None                  None   \n",
       "\n",
       "  PLAYER3_TEAM_ABBREVIATION  VIDEO_AVAILABLE_FLAG  \n",
       "0                      None                     1  \n",
       "1                      None                     0  "
      ]
     },
     "execution_count": 5,
     "metadata": {},
     "output_type": "execute_result"
    }
   ],
   "source": [
    "game_logs[:2]"
   ]
  },
  {
   "cell_type": "code",
   "execution_count": 6,
   "id": "627a4ad2",
   "metadata": {},
   "outputs": [
    {
     "data": {
      "text/plain": [
       "883"
      ]
     },
     "execution_count": 6,
     "metadata": {},
     "output_type": "execute_result"
    }
   ],
   "source": [
    "len(game_ids)"
   ]
  },
  {
   "cell_type": "code",
   "execution_count": 7,
   "id": "249525a5",
   "metadata": {},
   "outputs": [],
   "source": [
    "old_df = pd.read_csv('full jump df 02_20_22.csv', converters={'GAME_ID': '{:2}'.format})"
   ]
  },
  {
   "cell_type": "code",
   "execution_count": 8,
   "id": "707c99ac",
   "metadata": {},
   "outputs": [],
   "source": [
    "old_df['GAME_ID'] = old_df['GAME_ID'].astype('string')"
   ]
  },
  {
   "cell_type": "code",
   "execution_count": 9,
   "id": "0d6bbe3f-1421-49b0-8bcc-7e29b8b30d7d",
   "metadata": {},
   "outputs": [
    {
     "data": {
      "text/html": [
       "<div>\n",
       "<style scoped>\n",
       "    .dataframe tbody tr th:only-of-type {\n",
       "        vertical-align: middle;\n",
       "    }\n",
       "\n",
       "    .dataframe tbody tr th {\n",
       "        vertical-align: top;\n",
       "    }\n",
       "\n",
       "    .dataframe thead th {\n",
       "        text-align: right;\n",
       "    }\n",
       "</style>\n",
       "<table border=\"1\" class=\"dataframe\">\n",
       "  <thead>\n",
       "    <tr style=\"text-align: right;\">\n",
       "      <th></th>\n",
       "      <th>GAME_ID</th>\n",
       "      <th>EVENTMSGTYPE</th>\n",
       "      <th>PLAYER1_ID</th>\n",
       "      <th>PLAYER1_TEAM_ID</th>\n",
       "      <th>PLAYER2_ID</th>\n",
       "      <th>PLAYER2_TEAM_ID</th>\n",
       "    </tr>\n",
       "  </thead>\n",
       "  <tbody>\n",
       "    <tr>\n",
       "      <th>0</th>\n",
       "      <td>0021500003</td>\n",
       "      <td>10</td>\n",
       "      <td>101106</td>\n",
       "      <td>1610612744</td>\n",
       "      <td>203076</td>\n",
       "      <td>1610612740</td>\n",
       "    </tr>\n",
       "    <tr>\n",
       "      <th>1</th>\n",
       "      <td>0021500003</td>\n",
       "      <td>10</td>\n",
       "      <td>2571</td>\n",
       "      <td>1610612744</td>\n",
       "      <td>201582</td>\n",
       "      <td>1610612740</td>\n",
       "    </tr>\n",
       "    <tr>\n",
       "      <th>2</th>\n",
       "      <td>0021500003</td>\n",
       "      <td>10</td>\n",
       "      <td>203105</td>\n",
       "      <td>1610612744</td>\n",
       "      <td>203076</td>\n",
       "      <td>1610612740</td>\n",
       "    </tr>\n",
       "    <tr>\n",
       "      <th>3</th>\n",
       "      <td>0021500002</td>\n",
       "      <td>10</td>\n",
       "      <td>2200</td>\n",
       "      <td>1610612741</td>\n",
       "      <td>202389</td>\n",
       "      <td>1610612739</td>\n",
       "    </tr>\n",
       "    <tr>\n",
       "      <th>4</th>\n",
       "      <td>0021500001</td>\n",
       "      <td>10</td>\n",
       "      <td>201143</td>\n",
       "      <td>1610612737</td>\n",
       "      <td>203083</td>\n",
       "      <td>1610612765</td>\n",
       "    </tr>\n",
       "    <tr>\n",
       "      <th>...</th>\n",
       "      <td>...</td>\n",
       "      <td>...</td>\n",
       "      <td>...</td>\n",
       "      <td>...</td>\n",
       "      <td>...</td>\n",
       "      <td>...</td>\n",
       "    </tr>\n",
       "    <tr>\n",
       "      <th>13753</th>\n",
       "      <td>0022100885</td>\n",
       "      <td>10</td>\n",
       "      <td>1628970</td>\n",
       "      <td>1610612766</td>\n",
       "      <td>1628389</td>\n",
       "      <td>1610612748</td>\n",
       "    </tr>\n",
       "    <tr>\n",
       "      <th>13754</th>\n",
       "      <td>0022100885</td>\n",
       "      <td>10</td>\n",
       "      <td>1629023</td>\n",
       "      <td>1610612766</td>\n",
       "      <td>200782</td>\n",
       "      <td>1610612748</td>\n",
       "    </tr>\n",
       "    <tr>\n",
       "      <th>13755</th>\n",
       "      <td>0022100886</td>\n",
       "      <td>10</td>\n",
       "      <td>202685</td>\n",
       "      <td>1610612740</td>\n",
       "      <td>203939</td>\n",
       "      <td>1610612742</td>\n",
       "    </tr>\n",
       "    <tr>\n",
       "      <th>13756</th>\n",
       "      <td>0022100886</td>\n",
       "      <td>10</td>\n",
       "      <td>203468</td>\n",
       "      <td>1610612740</td>\n",
       "      <td>1630182</td>\n",
       "      <td>1610612742</td>\n",
       "    </tr>\n",
       "    <tr>\n",
       "      <th>13757</th>\n",
       "      <td>0022100874</td>\n",
       "      <td>10</td>\n",
       "      <td>1628964</td>\n",
       "      <td>1610612753</td>\n",
       "      <td>203991</td>\n",
       "      <td>1610612737</td>\n",
       "    </tr>\n",
       "  </tbody>\n",
       "</table>\n",
       "<p>13758 rows × 6 columns</p>\n",
       "</div>"
      ],
      "text/plain": [
       "          GAME_ID  EVENTMSGTYPE  PLAYER1_ID  PLAYER1_TEAM_ID  PLAYER2_ID  \\\n",
       "0      0021500003            10      101106       1610612744      203076   \n",
       "1      0021500003            10        2571       1610612744      201582   \n",
       "2      0021500003            10      203105       1610612744      203076   \n",
       "3      0021500002            10        2200       1610612741      202389   \n",
       "4      0021500001            10      201143       1610612737      203083   \n",
       "...           ...           ...         ...              ...         ...   \n",
       "13753  0022100885            10     1628970       1610612766     1628389   \n",
       "13754  0022100885            10     1629023       1610612766      200782   \n",
       "13755  0022100886            10      202685       1610612740      203939   \n",
       "13756  0022100886            10      203468       1610612740     1630182   \n",
       "13757  0022100874            10     1628964       1610612753      203991   \n",
       "\n",
       "       PLAYER2_TEAM_ID  \n",
       "0           1610612740  \n",
       "1           1610612740  \n",
       "2           1610612740  \n",
       "3           1610612739  \n",
       "4           1610612765  \n",
       "...                ...  \n",
       "13753       1610612748  \n",
       "13754       1610612748  \n",
       "13755       1610612742  \n",
       "13756       1610612742  \n",
       "13757       1610612737  \n",
       "\n",
       "[13758 rows x 6 columns]"
      ]
     },
     "execution_count": 9,
     "metadata": {},
     "output_type": "execute_result"
    }
   ],
   "source": [
    "old_df"
   ]
  },
  {
   "cell_type": "code",
   "execution_count": 10,
   "id": "6b67bcc7",
   "metadata": {},
   "outputs": [
    {
     "data": {
      "text/plain": [
       "1"
      ]
     },
     "execution_count": 10,
     "metadata": {},
     "output_type": "execute_result"
    }
   ],
   "source": [
    "new_ids = list(set(game_ids).difference(old_df['GAME_ID']))\n",
    "len(new_ids)"
   ]
  },
  {
   "cell_type": "code",
   "execution_count": 11,
   "id": "5981dc8f",
   "metadata": {},
   "outputs": [
    {
     "name": "stdout",
     "output_type": "stream",
     "text": [
      "Wall time: 1.18 s\n"
     ]
    }
   ],
   "source": [
    "%%time\n",
    "## Create empty lists to append data\n",
    "jump_df = pd.DataFrame(columns = ['GAME_ID', 'EVENTMSGTYPE', 'PLAYER1_ID', 'PLAYER1_TEAM_ID', 'PLAYER2_ID', 'PLAYER2_TEAM_ID'])\n",
    "\n",
    "## iterate through each game_id\n",
    "for i in range(len(new_ids)):\n",
    "    \n",
    "    ## store every new game in a df, overwrite everytime\n",
    "    df = playbyplayv2.PlayByPlayV2(game_id=new_ids[i]).get_data_frames()[0][['GAME_ID', 'EVENTMSGTYPE', 'PLAYER1_ID', 'PLAYER1_TEAM_ID', 'PLAYER2_ID', 'PLAYER2_TEAM_ID']]\n",
    "    \n",
    "    jump_df = pd.concat([jump_df,df[df['EVENTMSGTYPE'] == 10]], ignore_index=True)\n",
    "    time.sleep(1)\n",
    "    \n",
    "jump_df = pd.concat([old_df,jump_df], ignore_index=True)"
   ]
  },
  {
   "cell_type": "code",
   "execution_count": 12,
   "id": "681e92a3",
   "metadata": {},
   "outputs": [
    {
     "data": {
      "text/plain": [
       "(7931, 7931, 883)"
      ]
     },
     "execution_count": 12,
     "metadata": {},
     "output_type": "execute_result"
    }
   ],
   "source": [
    "len(old_df['GAME_ID'].unique()), len(jump_df['GAME_ID'].unique()), len(game_ids)"
   ]
  },
  {
   "cell_type": "code",
   "execution_count": 13,
   "id": "2ca445d9",
   "metadata": {},
   "outputs": [],
   "source": [
    "jump_df[['PLAYER1_TEAM_ID', 'PLAYER2_TEAM_ID']] = jump_df[['PLAYER1_TEAM_ID', 'PLAYER2_TEAM_ID']].astype('int')"
   ]
  },
  {
   "cell_type": "code",
   "execution_count": 14,
   "id": "c3c0e63d",
   "metadata": {},
   "outputs": [],
   "source": [
    "jump_df.reset_index(drop=True, inplace=True)"
   ]
  },
  {
   "cell_type": "code",
   "execution_count": 15,
   "id": "bc231e98",
   "metadata": {},
   "outputs": [],
   "source": [
    "# jump_df.to_csv('jump_df 02_19_22.csv', index=False)"
   ]
  },
  {
   "cell_type": "code",
   "execution_count": 16,
   "id": "1a4252d4-8168-431c-923c-6cf1f401da35",
   "metadata": {},
   "outputs": [
    {
     "data": {
      "text/html": [
       "<div>\n",
       "<style scoped>\n",
       "    .dataframe tbody tr th:only-of-type {\n",
       "        vertical-align: middle;\n",
       "    }\n",
       "\n",
       "    .dataframe tbody tr th {\n",
       "        vertical-align: top;\n",
       "    }\n",
       "\n",
       "    .dataframe thead th {\n",
       "        text-align: right;\n",
       "    }\n",
       "</style>\n",
       "<table border=\"1\" class=\"dataframe\">\n",
       "  <thead>\n",
       "    <tr style=\"text-align: right;\">\n",
       "      <th></th>\n",
       "      <th>GAME_ID</th>\n",
       "      <th>EVENTMSGTYPE</th>\n",
       "      <th>PLAYER1_ID</th>\n",
       "      <th>PLAYER1_TEAM_ID</th>\n",
       "      <th>PLAYER2_ID</th>\n",
       "      <th>PLAYER2_TEAM_ID</th>\n",
       "    </tr>\n",
       "  </thead>\n",
       "  <tbody>\n",
       "    <tr>\n",
       "      <th>0</th>\n",
       "      <td>0021500003</td>\n",
       "      <td>10</td>\n",
       "      <td>101106</td>\n",
       "      <td>1610612744</td>\n",
       "      <td>203076</td>\n",
       "      <td>1610612740</td>\n",
       "    </tr>\n",
       "    <tr>\n",
       "      <th>1</th>\n",
       "      <td>0021500003</td>\n",
       "      <td>10</td>\n",
       "      <td>2571</td>\n",
       "      <td>1610612744</td>\n",
       "      <td>201582</td>\n",
       "      <td>1610612740</td>\n",
       "    </tr>\n",
       "    <tr>\n",
       "      <th>2</th>\n",
       "      <td>0021500003</td>\n",
       "      <td>10</td>\n",
       "      <td>203105</td>\n",
       "      <td>1610612744</td>\n",
       "      <td>203076</td>\n",
       "      <td>1610612740</td>\n",
       "    </tr>\n",
       "    <tr>\n",
       "      <th>3</th>\n",
       "      <td>0021500002</td>\n",
       "      <td>10</td>\n",
       "      <td>2200</td>\n",
       "      <td>1610612741</td>\n",
       "      <td>202389</td>\n",
       "      <td>1610612739</td>\n",
       "    </tr>\n",
       "    <tr>\n",
       "      <th>4</th>\n",
       "      <td>0021500001</td>\n",
       "      <td>10</td>\n",
       "      <td>201143</td>\n",
       "      <td>1610612737</td>\n",
       "      <td>203083</td>\n",
       "      <td>1610612765</td>\n",
       "    </tr>\n",
       "    <tr>\n",
       "      <th>...</th>\n",
       "      <td>...</td>\n",
       "      <td>...</td>\n",
       "      <td>...</td>\n",
       "      <td>...</td>\n",
       "      <td>...</td>\n",
       "      <td>...</td>\n",
       "    </tr>\n",
       "    <tr>\n",
       "      <th>13753</th>\n",
       "      <td>0022100885</td>\n",
       "      <td>10</td>\n",
       "      <td>1628970</td>\n",
       "      <td>1610612766</td>\n",
       "      <td>1628389</td>\n",
       "      <td>1610612748</td>\n",
       "    </tr>\n",
       "    <tr>\n",
       "      <th>13754</th>\n",
       "      <td>0022100885</td>\n",
       "      <td>10</td>\n",
       "      <td>1629023</td>\n",
       "      <td>1610612766</td>\n",
       "      <td>200782</td>\n",
       "      <td>1610612748</td>\n",
       "    </tr>\n",
       "    <tr>\n",
       "      <th>13755</th>\n",
       "      <td>0022100886</td>\n",
       "      <td>10</td>\n",
       "      <td>202685</td>\n",
       "      <td>1610612740</td>\n",
       "      <td>203939</td>\n",
       "      <td>1610612742</td>\n",
       "    </tr>\n",
       "    <tr>\n",
       "      <th>13756</th>\n",
       "      <td>0022100886</td>\n",
       "      <td>10</td>\n",
       "      <td>203468</td>\n",
       "      <td>1610612740</td>\n",
       "      <td>1630182</td>\n",
       "      <td>1610612742</td>\n",
       "    </tr>\n",
       "    <tr>\n",
       "      <th>13757</th>\n",
       "      <td>0022100874</td>\n",
       "      <td>10</td>\n",
       "      <td>1628964</td>\n",
       "      <td>1610612753</td>\n",
       "      <td>203991</td>\n",
       "      <td>1610612737</td>\n",
       "    </tr>\n",
       "  </tbody>\n",
       "</table>\n",
       "<p>13758 rows × 6 columns</p>\n",
       "</div>"
      ],
      "text/plain": [
       "          GAME_ID EVENTMSGTYPE PLAYER1_ID  PLAYER1_TEAM_ID PLAYER2_ID  \\\n",
       "0      0021500003           10     101106       1610612744     203076   \n",
       "1      0021500003           10       2571       1610612744     201582   \n",
       "2      0021500003           10     203105       1610612744     203076   \n",
       "3      0021500002           10       2200       1610612741     202389   \n",
       "4      0021500001           10     201143       1610612737     203083   \n",
       "...           ...          ...        ...              ...        ...   \n",
       "13753  0022100885           10    1628970       1610612766    1628389   \n",
       "13754  0022100885           10    1629023       1610612766     200782   \n",
       "13755  0022100886           10     202685       1610612740     203939   \n",
       "13756  0022100886           10     203468       1610612740    1630182   \n",
       "13757  0022100874           10    1628964       1610612753     203991   \n",
       "\n",
       "       PLAYER2_TEAM_ID  \n",
       "0           1610612740  \n",
       "1           1610612740  \n",
       "2           1610612740  \n",
       "3           1610612739  \n",
       "4           1610612765  \n",
       "...                ...  \n",
       "13753       1610612748  \n",
       "13754       1610612748  \n",
       "13755       1610612742  \n",
       "13756       1610612742  \n",
       "13757       1610612737  \n",
       "\n",
       "[13758 rows x 6 columns]"
      ]
     },
     "execution_count": 16,
     "metadata": {},
     "output_type": "execute_result"
    }
   ],
   "source": [
    "jump_df"
   ]
  },
  {
   "cell_type": "code",
   "execution_count": 17,
   "id": "7e30d81b-262a-4f34-8b7c-75ae736597de",
   "metadata": {},
   "outputs": [],
   "source": [
    "jb_w = pd.DataFrame(jump_df['PLAYER1_ID'].value_counts().reset_index())\n",
    "jb_w.columns = ['PLAYER1_ID', 'JumpBallWins']\n",
    "jb_l = pd.DataFrame(jump_df['PLAYER2_ID'].value_counts().reset_index())\n",
    "jb_l.columns = ['PLAYER2_ID', 'JumpBallLosses']"
   ]
  },
  {
   "cell_type": "code",
   "execution_count": 18,
   "id": "98abca7d-27c7-4db9-8ee7-6252d1c65050",
   "metadata": {},
   "outputs": [],
   "source": [
    "combo_totals = jb_w.merge(jb_l,  left_on='PLAYER1_ID', right_on='PLAYER2_ID', how='outer')"
   ]
  },
  {
   "cell_type": "code",
   "execution_count": 19,
   "id": "b43ce999-21ed-4d4b-9962-cd570f67f1d3",
   "metadata": {},
   "outputs": [],
   "source": [
    "combo_totals[['JumpBallWins', 'JumpBallLosses']] = combo_totals[['JumpBallWins', 'JumpBallLosses']].fillna(value=0)"
   ]
  },
  {
   "cell_type": "code",
   "execution_count": 20,
   "id": "25ea612f-5720-478d-af8f-4b56ab2691c0",
   "metadata": {},
   "outputs": [],
   "source": [
    "combo_totals['TotalJBs'] = combo_totals['JumpBallWins'] + combo_totals['JumpBallLosses']\n",
    "combo_totals['JBWinPct'] = round(combo_totals['JumpBallWins'] / combo_totals['TotalJBs'],3)"
   ]
  },
  {
   "cell_type": "code",
   "execution_count": 21,
   "id": "c2ad331e-f64c-4335-bb12-2b4dbd1b2a9a",
   "metadata": {},
   "outputs": [],
   "source": [
    "jb_stats = combo_totals.copy()"
   ]
  },
  {
   "cell_type": "code",
   "execution_count": 22,
   "id": "43676e70-9b7d-459f-af8f-d59d4021f9d9",
   "metadata": {},
   "outputs": [],
   "source": [
    "jb_stats['PLAYER1_ID'] = jb_stats['PLAYER1_ID'].fillna(combo_totals['PLAYER2_ID'])"
   ]
  },
  {
   "cell_type": "code",
   "execution_count": 23,
   "id": "e26c65c1-5338-45f0-ae47-9d711d4fca42",
   "metadata": {},
   "outputs": [],
   "source": [
    "del jb_stats['PLAYER2_ID']"
   ]
  },
  {
   "cell_type": "code",
   "execution_count": 24,
   "id": "504ae26d-87db-425e-b416-64ea6816ad32",
   "metadata": {},
   "outputs": [],
   "source": [
    "jb_stats['PLAYER1_ID'] = jb_stats['PLAYER1_ID'].astype('int')"
   ]
  },
  {
   "cell_type": "code",
   "execution_count": 25,
   "id": "74a34355-01ff-4224-937a-0ebc1db7ed08",
   "metadata": {},
   "outputs": [
    {
     "data": {
      "text/html": [
       "<div>\n",
       "<style scoped>\n",
       "    .dataframe tbody tr th:only-of-type {\n",
       "        vertical-align: middle;\n",
       "    }\n",
       "\n",
       "    .dataframe tbody tr th {\n",
       "        vertical-align: top;\n",
       "    }\n",
       "\n",
       "    .dataframe thead th {\n",
       "        text-align: right;\n",
       "    }\n",
       "</style>\n",
       "<table border=\"1\" class=\"dataframe\">\n",
       "  <thead>\n",
       "    <tr style=\"text-align: right;\">\n",
       "      <th></th>\n",
       "      <th>PLAYER1_ID</th>\n",
       "      <th>JumpBallWins</th>\n",
       "      <th>JumpBallLosses</th>\n",
       "      <th>TotalJBs</th>\n",
       "      <th>JBWinPct</th>\n",
       "    </tr>\n",
       "  </thead>\n",
       "  <tbody>\n",
       "    <tr>\n",
       "      <th>0</th>\n",
       "      <td>203500</td>\n",
       "      <td>318.0</td>\n",
       "      <td>319.0</td>\n",
       "      <td>637.0</td>\n",
       "      <td>0.499</td>\n",
       "    </tr>\n",
       "  </tbody>\n",
       "</table>\n",
       "</div>"
      ],
      "text/plain": [
       "   PLAYER1_ID  JumpBallWins  JumpBallLosses  TotalJBs  JBWinPct\n",
       "0      203500         318.0           319.0     637.0     0.499"
      ]
     },
     "execution_count": 25,
     "metadata": {},
     "output_type": "execute_result"
    }
   ],
   "source": [
    "jb_stats[jb_stats['PLAYER1_ID'] == 203500]"
   ]
  },
  {
   "cell_type": "code",
   "execution_count": 26,
   "id": "0f6ea4e0-7813-40de-abfa-c8882569fbcd",
   "metadata": {},
   "outputs": [
    {
     "data": {
      "text/plain": [
       "832"
      ]
     },
     "execution_count": 26,
     "metadata": {},
     "output_type": "execute_result"
    }
   ],
   "source": [
    "len(jb_stats['PLAYER1_ID'].unique())"
   ]
  },
  {
   "cell_type": "code",
   "execution_count": 27,
   "id": "53427778",
   "metadata": {},
   "outputs": [],
   "source": [
    "df_player_ids = jump_df[['PLAYER1_ID', 'PLAYER2_ID']].values.ravel()\n",
    "unique_ids = pd.unique(df_player_ids)"
   ]
  },
  {
   "cell_type": "code",
   "execution_count": 28,
   "id": "4d680e7d",
   "metadata": {},
   "outputs": [
    {
     "data": {
      "text/plain": [
       "832"
      ]
     },
     "execution_count": 28,
     "metadata": {},
     "output_type": "execute_result"
    }
   ],
   "source": [
    "len(unique_ids)"
   ]
  },
  {
   "cell_type": "markdown",
   "id": "95e5252f",
   "metadata": {},
   "source": [
    "#### On 2-12-22, 380 unqiue_ids"
   ]
  },
  {
   "cell_type": "code",
   "execution_count": 43,
   "id": "7e64d1c7",
   "metadata": {},
   "outputs": [],
   "source": [
    "# old_info = pd.read_csv('info_df 02_19_22.csv', converters={'GAME_ID': '{:2}'.format})"
   ]
  },
  {
   "cell_type": "code",
   "execution_count": 44,
   "id": "c2c288bb",
   "metadata": {},
   "outputs": [
    {
     "data": {
      "text/plain": [
       "0"
      ]
     },
     "execution_count": 44,
     "metadata": {},
     "output_type": "execute_result"
    }
   ],
   "source": [
    "new_ids = list(set(unique_ids).difference(old_info['PERSON_ID']))\n",
    "len(new_ids)"
   ]
  },
  {
   "cell_type": "code",
   "execution_count": 29,
   "id": "41947463",
   "metadata": {},
   "outputs": [
    {
     "name": "stdout",
     "output_type": "stream",
     "text": [
      "Wall time: 18min 50s\n"
     ]
    }
   ],
   "source": [
    "%%time\n",
    "info_df = pd.DataFrame(columns = ['PERSON_ID', 'DISPLAY_FIRST_LAST', 'FROM_YEAR', 'TEAM_ID', 'TEAM_NAME', 'HEIGHT', 'WEIGHT'])\n",
    "\n",
    "for i in range(len(unique_ids)):\n",
    "    \n",
    "    df = commonplayerinfo.CommonPlayerInfo(player_id=unique_ids[i]).get_data_frames()[0][['PERSON_ID', 'DISPLAY_FIRST_LAST', 'FROM_YEAR', 'TEAM_ID', 'TEAM_NAME', 'HEIGHT', 'WEIGHT']]\n",
    "\n",
    "    info_df = pd.concat([info_df,df], ignore_index=True)\n",
    "    time.sleep(1)\n",
    "    \n",
    "# info_df = pd.concat([old_info, info_df], ignore_index=True)"
   ]
  },
  {
   "cell_type": "code",
   "execution_count": 30,
   "id": "c1fc70f2",
   "metadata": {},
   "outputs": [],
   "source": [
    "info_df.reset_index(drop=True, inplace=True)"
   ]
  },
  {
   "cell_type": "code",
   "execution_count": 31,
   "id": "9339321b",
   "metadata": {},
   "outputs": [],
   "source": [
    "# info_df.to_csv('info_df 02_24_22.csv', index=False)"
   ]
  },
  {
   "cell_type": "code",
   "execution_count": 33,
   "id": "189cadab",
   "metadata": {},
   "outputs": [
    {
     "data": {
      "text/html": [
       "<div>\n",
       "<style scoped>\n",
       "    .dataframe tbody tr th:only-of-type {\n",
       "        vertical-align: middle;\n",
       "    }\n",
       "\n",
       "    .dataframe tbody tr th {\n",
       "        vertical-align: top;\n",
       "    }\n",
       "\n",
       "    .dataframe thead th {\n",
       "        text-align: right;\n",
       "    }\n",
       "</style>\n",
       "<table border=\"1\" class=\"dataframe\">\n",
       "  <thead>\n",
       "    <tr style=\"text-align: right;\">\n",
       "      <th></th>\n",
       "      <th>PERSON_ID</th>\n",
       "      <th>DISPLAY_FIRST_LAST</th>\n",
       "      <th>FROM_YEAR</th>\n",
       "      <th>TEAM_ID</th>\n",
       "      <th>TEAM_NAME</th>\n",
       "      <th>HEIGHT</th>\n",
       "      <th>WEIGHT</th>\n",
       "    </tr>\n",
       "  </thead>\n",
       "  <tbody>\n",
       "    <tr>\n",
       "      <th>0</th>\n",
       "      <td>101106</td>\n",
       "      <td>Andrew Bogut</td>\n",
       "      <td>2005</td>\n",
       "      <td>1610612749</td>\n",
       "      <td>Bucks</td>\n",
       "      <td>7-0</td>\n",
       "      <td>260</td>\n",
       "    </tr>\n",
       "    <tr>\n",
       "      <th>1</th>\n",
       "      <td>203076</td>\n",
       "      <td>Anthony Davis</td>\n",
       "      <td>2012</td>\n",
       "      <td>1610612747</td>\n",
       "      <td>Lakers</td>\n",
       "      <td>6-10</td>\n",
       "      <td>253</td>\n",
       "    </tr>\n",
       "    <tr>\n",
       "      <th>2</th>\n",
       "      <td>2571</td>\n",
       "      <td>Leandro Barbosa</td>\n",
       "      <td>2003</td>\n",
       "      <td>1610612756</td>\n",
       "      <td>Suns</td>\n",
       "      <td>6-3</td>\n",
       "      <td>194</td>\n",
       "    </tr>\n",
       "    <tr>\n",
       "      <th>3</th>\n",
       "      <td>201582</td>\n",
       "      <td>Alexis Ajinca</td>\n",
       "      <td>2008</td>\n",
       "      <td>1610612740</td>\n",
       "      <td>Pelicans</td>\n",
       "      <td>7-2</td>\n",
       "      <td>248</td>\n",
       "    </tr>\n",
       "  </tbody>\n",
       "</table>\n",
       "</div>"
      ],
      "text/plain": [
       "  PERSON_ID DISPLAY_FIRST_LAST FROM_YEAR     TEAM_ID TEAM_NAME HEIGHT WEIGHT\n",
       "0    101106       Andrew Bogut      2005  1610612749     Bucks    7-0    260\n",
       "1    203076      Anthony Davis      2012  1610612747    Lakers   6-10    253\n",
       "2      2571    Leandro Barbosa      2003  1610612756      Suns    6-3    194\n",
       "3    201582      Alexis Ajinca      2008  1610612740  Pelicans    7-2    248"
      ]
     },
     "execution_count": 33,
     "metadata": {},
     "output_type": "execute_result"
    }
   ],
   "source": [
    "info_df[:4]"
   ]
  },
  {
   "cell_type": "code",
   "execution_count": 34,
   "id": "564ebf05",
   "metadata": {},
   "outputs": [],
   "source": [
    "info_df['HEIGHT'] = [s.split('-') for s in info_df.HEIGHT]\n",
    "info_df['HEIGHT'] = [int(i[0])*12 + int(i[1]) for i in info_df['HEIGHT']]"
   ]
  },
  {
   "cell_type": "code",
   "execution_count": 35,
   "id": "470f1f12",
   "metadata": {},
   "outputs": [],
   "source": [
    "info_df['TEAM_NAME'] = info_df['TEAM_NAME'].fillna('FA')"
   ]
  },
  {
   "cell_type": "code",
   "execution_count": 36,
   "id": "183ff2ce",
   "metadata": {},
   "outputs": [],
   "source": [
    "info_df['WEIGHT'] = info_df['WEIGHT'].astype('int')"
   ]
  },
  {
   "cell_type": "code",
   "execution_count": 38,
   "id": "2aab17b6-6468-47fd-9dbd-e4e74d14aebb",
   "metadata": {},
   "outputs": [
    {
     "data": {
      "text/html": [
       "<div>\n",
       "<style scoped>\n",
       "    .dataframe tbody tr th:only-of-type {\n",
       "        vertical-align: middle;\n",
       "    }\n",
       "\n",
       "    .dataframe tbody tr th {\n",
       "        vertical-align: top;\n",
       "    }\n",
       "\n",
       "    .dataframe thead th {\n",
       "        text-align: right;\n",
       "    }\n",
       "</style>\n",
       "<table border=\"1\" class=\"dataframe\">\n",
       "  <thead>\n",
       "    <tr style=\"text-align: right;\">\n",
       "      <th></th>\n",
       "      <th>PERSON_ID</th>\n",
       "      <th>DISPLAY_FIRST_LAST</th>\n",
       "      <th>FROM_YEAR</th>\n",
       "      <th>TEAM_ID</th>\n",
       "      <th>TEAM_NAME</th>\n",
       "      <th>HEIGHT</th>\n",
       "      <th>WEIGHT</th>\n",
       "    </tr>\n",
       "  </thead>\n",
       "  <tbody>\n",
       "    <tr>\n",
       "      <th>0</th>\n",
       "      <td>101106</td>\n",
       "      <td>Andrew Bogut</td>\n",
       "      <td>2005</td>\n",
       "      <td>1610612749</td>\n",
       "      <td>Bucks</td>\n",
       "      <td>84</td>\n",
       "      <td>260</td>\n",
       "    </tr>\n",
       "    <tr>\n",
       "      <th>1</th>\n",
       "      <td>203076</td>\n",
       "      <td>Anthony Davis</td>\n",
       "      <td>2012</td>\n",
       "      <td>1610612747</td>\n",
       "      <td>Lakers</td>\n",
       "      <td>82</td>\n",
       "      <td>253</td>\n",
       "    </tr>\n",
       "    <tr>\n",
       "      <th>2</th>\n",
       "      <td>2571</td>\n",
       "      <td>Leandro Barbosa</td>\n",
       "      <td>2003</td>\n",
       "      <td>1610612756</td>\n",
       "      <td>Suns</td>\n",
       "      <td>75</td>\n",
       "      <td>194</td>\n",
       "    </tr>\n",
       "    <tr>\n",
       "      <th>3</th>\n",
       "      <td>201582</td>\n",
       "      <td>Alexis Ajinca</td>\n",
       "      <td>2008</td>\n",
       "      <td>1610612740</td>\n",
       "      <td>Pelicans</td>\n",
       "      <td>86</td>\n",
       "      <td>248</td>\n",
       "    </tr>\n",
       "  </tbody>\n",
       "</table>\n",
       "</div>"
      ],
      "text/plain": [
       "  PERSON_ID DISPLAY_FIRST_LAST FROM_YEAR     TEAM_ID TEAM_NAME  HEIGHT  WEIGHT\n",
       "0    101106       Andrew Bogut      2005  1610612749     Bucks      84     260\n",
       "1    203076      Anthony Davis      2012  1610612747    Lakers      82     253\n",
       "2      2571    Leandro Barbosa      2003  1610612756      Suns      75     194\n",
       "3    201582      Alexis Ajinca      2008  1610612740  Pelicans      86     248"
      ]
     },
     "execution_count": 38,
     "metadata": {},
     "output_type": "execute_result"
    }
   ],
   "source": [
    "info_df[:4]"
   ]
  },
  {
   "cell_type": "code",
   "execution_count": 39,
   "id": "c3f9c130-e1ac-4d45-971e-3562c3c6a711",
   "metadata": {},
   "outputs": [],
   "source": [
    "comb_df = pd.read_csv('combine_df 02_19_22.csv')"
   ]
  },
  {
   "cell_type": "code",
   "execution_count": 40,
   "id": "2d79a1d8-5809-458f-ba7f-549d8e0c0859",
   "metadata": {},
   "outputs": [],
   "source": [
    "years = info_df['FROM_YEAR'].unique()"
   ]
  },
  {
   "cell_type": "code",
   "execution_count": 41,
   "id": "cc3516ba-2f2c-4e91-a033-cb3d7a53388a",
   "metadata": {},
   "outputs": [
    {
     "data": {
      "text/plain": [
       "(27, 22)"
      ]
     },
     "execution_count": 41,
     "metadata": {},
     "output_type": "execute_result"
    }
   ],
   "source": [
    "len(info_df['FROM_YEAR'].unique()), len(comb_df['SEASON'].unique())"
   ]
  },
  {
   "cell_type": "markdown",
   "id": "1e177e9b-a2ef-417f-a038-b51354b86235",
   "metadata": {},
   "source": [
    "### Get combine data"
   ]
  },
  {
   "cell_type": "code",
   "execution_count": 42,
   "id": "ca0502d6-3501-4264-a991-c995abb8510e",
   "metadata": {},
   "outputs": [],
   "source": [
    "# %%time\n",
    "# comb_df = pd.DataFrame()\n",
    "\n",
    "# for i in range(len(years)):\n",
    "    \n",
    "#     df = draftcombinestats.DraftCombineStats(season_all_time=years[i]).get_data_frames()[0]\n",
    "\n",
    "#     comb_df = pd.concat([comb_df,df], ignore_index=True)\n",
    "#     time.sleep(1)"
   ]
  },
  {
   "cell_type": "code",
   "execution_count": 43,
   "id": "101ec92e-a823-4b66-9422-738c6df05539",
   "metadata": {},
   "outputs": [],
   "source": [
    "# comb_df.to_csv('combine_df 02_19_22.csv', index=False)"
   ]
  },
  {
   "cell_type": "code",
   "execution_count": 44,
   "id": "5b239c69-63cd-403b-be4b-49482648b2df",
   "metadata": {},
   "outputs": [],
   "source": [
    "pre_jump = info_df.merge(comb_df[['PLAYER_ID', 'WINGSPAN', 'SEASON']], left_on=['PERSON_ID','FROM_YEAR'], right_on=['PLAYER_ID', 'SEASON'], how='left')"
   ]
  },
  {
   "cell_type": "code",
   "execution_count": 45,
   "id": "e65c5c56-f1a6-4efe-b007-5c5d2f6c14a6",
   "metadata": {},
   "outputs": [
    {
     "data": {
      "text/plain": [
       "True"
      ]
     },
     "execution_count": 45,
     "metadata": {},
     "output_type": "execute_result"
    }
   ],
   "source": [
    "len(pre_jump) == len(info_df)"
   ]
  },
  {
   "cell_type": "code",
   "execution_count": 46,
   "id": "70e78f45-7ac9-4235-8f53-2bbbfdff2dbb",
   "metadata": {},
   "outputs": [
    {
     "data": {
      "text/html": [
       "<div>\n",
       "<style scoped>\n",
       "    .dataframe tbody tr th:only-of-type {\n",
       "        vertical-align: middle;\n",
       "    }\n",
       "\n",
       "    .dataframe tbody tr th {\n",
       "        vertical-align: top;\n",
       "    }\n",
       "\n",
       "    .dataframe thead th {\n",
       "        text-align: right;\n",
       "    }\n",
       "</style>\n",
       "<table border=\"1\" class=\"dataframe\">\n",
       "  <thead>\n",
       "    <tr style=\"text-align: right;\">\n",
       "      <th></th>\n",
       "      <th>PERSON_ID</th>\n",
       "      <th>DISPLAY_FIRST_LAST</th>\n",
       "      <th>FROM_YEAR</th>\n",
       "      <th>TEAM_ID</th>\n",
       "      <th>TEAM_NAME</th>\n",
       "      <th>HEIGHT</th>\n",
       "      <th>WEIGHT</th>\n",
       "      <th>PLAYER_ID</th>\n",
       "      <th>WINGSPAN</th>\n",
       "      <th>SEASON</th>\n",
       "    </tr>\n",
       "  </thead>\n",
       "  <tbody>\n",
       "    <tr>\n",
       "      <th>0</th>\n",
       "      <td>101106</td>\n",
       "      <td>Andrew Bogut</td>\n",
       "      <td>2005</td>\n",
       "      <td>1610612749</td>\n",
       "      <td>Bucks</td>\n",
       "      <td>84</td>\n",
       "      <td>260</td>\n",
       "      <td>101106.0</td>\n",
       "      <td>87.0</td>\n",
       "      <td>2005.0</td>\n",
       "    </tr>\n",
       "  </tbody>\n",
       "</table>\n",
       "</div>"
      ],
      "text/plain": [
       "  PERSON_ID DISPLAY_FIRST_LAST FROM_YEAR     TEAM_ID TEAM_NAME  HEIGHT  \\\n",
       "0    101106       Andrew Bogut      2005  1610612749     Bucks      84   \n",
       "\n",
       "   WEIGHT  PLAYER_ID  WINGSPAN  SEASON  \n",
       "0     260   101106.0      87.0  2005.0  "
      ]
     },
     "execution_count": 46,
     "metadata": {},
     "output_type": "execute_result"
    }
   ],
   "source": [
    "pre_jump[:1]"
   ]
  },
  {
   "cell_type": "markdown",
   "id": "0491136a-e3b7-4f7a-b404-e9b56c486d37",
   "metadata": {},
   "source": [
    "### Split jump_fd by player 1 and player 2 - add player info - rejoin back together"
   ]
  },
  {
   "cell_type": "code",
   "execution_count": 47,
   "id": "4e819ac3-b35b-42bc-9d2e-87300845fc53",
   "metadata": {},
   "outputs": [],
   "source": [
    "pre_jump_v1 = jump_df.merge(pre_jump, left_on='PLAYER1_ID', right_on='PERSON_ID', how='inner')"
   ]
  },
  {
   "cell_type": "code",
   "execution_count": 48,
   "id": "0fc35996-5742-4ddc-9294-c00923ffb49f",
   "metadata": {},
   "outputs": [],
   "source": [
    "pre_jump_v1 = pre_jump_v1.merge(pre_jump, left_on='PLAYER2_ID', right_on='PERSON_ID', how='inner')"
   ]
  },
  {
   "cell_type": "code",
   "execution_count": 49,
   "id": "67d8a1ec-0265-4e59-ba07-1eec00acfe06",
   "metadata": {},
   "outputs": [
    {
     "data": {
      "text/html": [
       "<div>\n",
       "<style scoped>\n",
       "    .dataframe tbody tr th:only-of-type {\n",
       "        vertical-align: middle;\n",
       "    }\n",
       "\n",
       "    .dataframe tbody tr th {\n",
       "        vertical-align: top;\n",
       "    }\n",
       "\n",
       "    .dataframe thead th {\n",
       "        text-align: right;\n",
       "    }\n",
       "</style>\n",
       "<table border=\"1\" class=\"dataframe\">\n",
       "  <thead>\n",
       "    <tr style=\"text-align: right;\">\n",
       "      <th></th>\n",
       "      <th>GAME_ID</th>\n",
       "      <th>EVENTMSGTYPE</th>\n",
       "      <th>PLAYER1_ID</th>\n",
       "      <th>PLAYER1_TEAM_ID</th>\n",
       "      <th>PLAYER2_ID</th>\n",
       "      <th>PLAYER2_TEAM_ID</th>\n",
       "      <th>PERSON_ID_x</th>\n",
       "      <th>DISPLAY_FIRST_LAST_x</th>\n",
       "      <th>FROM_YEAR_x</th>\n",
       "      <th>TEAM_ID_x</th>\n",
       "      <th>TEAM_NAME_x</th>\n",
       "      <th>HEIGHT_x</th>\n",
       "      <th>WEIGHT_x</th>\n",
       "      <th>PLAYER_ID_x</th>\n",
       "      <th>WINGSPAN_x</th>\n",
       "      <th>SEASON_x</th>\n",
       "      <th>PERSON_ID_y</th>\n",
       "      <th>DISPLAY_FIRST_LAST_y</th>\n",
       "      <th>FROM_YEAR_y</th>\n",
       "      <th>TEAM_ID_y</th>\n",
       "      <th>TEAM_NAME_y</th>\n",
       "      <th>HEIGHT_y</th>\n",
       "      <th>WEIGHT_y</th>\n",
       "      <th>PLAYER_ID_y</th>\n",
       "      <th>WINGSPAN_y</th>\n",
       "      <th>SEASON_y</th>\n",
       "    </tr>\n",
       "  </thead>\n",
       "  <tbody>\n",
       "    <tr>\n",
       "      <th>0</th>\n",
       "      <td>0021500003</td>\n",
       "      <td>10</td>\n",
       "      <td>101106</td>\n",
       "      <td>1610612744</td>\n",
       "      <td>203076</td>\n",
       "      <td>1610612740</td>\n",
       "      <td>101106</td>\n",
       "      <td>Andrew Bogut</td>\n",
       "      <td>2005</td>\n",
       "      <td>1610612749</td>\n",
       "      <td>Bucks</td>\n",
       "      <td>84</td>\n",
       "      <td>260</td>\n",
       "      <td>101106.0</td>\n",
       "      <td>87.0</td>\n",
       "      <td>2005.0</td>\n",
       "      <td>203076</td>\n",
       "      <td>Anthony Davis</td>\n",
       "      <td>2012</td>\n",
       "      <td>1610612747</td>\n",
       "      <td>Lakers</td>\n",
       "      <td>82</td>\n",
       "      <td>253</td>\n",
       "      <td>203076.0</td>\n",
       "      <td>89.5</td>\n",
       "      <td>2012.0</td>\n",
       "    </tr>\n",
       "  </tbody>\n",
       "</table>\n",
       "</div>"
      ],
      "text/plain": [
       "      GAME_ID EVENTMSGTYPE PLAYER1_ID  PLAYER1_TEAM_ID PLAYER2_ID  \\\n",
       "0  0021500003           10     101106       1610612744     203076   \n",
       "\n",
       "   PLAYER2_TEAM_ID PERSON_ID_x DISPLAY_FIRST_LAST_x FROM_YEAR_x   TEAM_ID_x  \\\n",
       "0       1610612740      101106         Andrew Bogut        2005  1610612749   \n",
       "\n",
       "  TEAM_NAME_x  HEIGHT_x  WEIGHT_x  PLAYER_ID_x  WINGSPAN_x  SEASON_x  \\\n",
       "0       Bucks        84       260     101106.0        87.0    2005.0   \n",
       "\n",
       "  PERSON_ID_y DISPLAY_FIRST_LAST_y FROM_YEAR_y   TEAM_ID_y TEAM_NAME_y  \\\n",
       "0      203076        Anthony Davis        2012  1610612747      Lakers   \n",
       "\n",
       "   HEIGHT_y  WEIGHT_y  PLAYER_ID_y  WINGSPAN_y  SEASON_y  \n",
       "0        82       253     203076.0        89.5    2012.0  "
      ]
     },
     "execution_count": 49,
     "metadata": {},
     "output_type": "execute_result"
    }
   ],
   "source": [
    "pre_jump_v1[:1]"
   ]
  },
  {
   "cell_type": "code",
   "execution_count": 50,
   "id": "494a01c3-70e5-4d7c-9178-c5e4426df16d",
   "metadata": {},
   "outputs": [],
   "source": [
    "pre_jump_v1.drop(['EVENTMSGTYPE', 'PERSON_ID_x', 'TEAM_ID_x', 'PERSON_ID_y', 'TEAM_ID_y', 'FROM_YEAR_x', 'FROM_YEAR_y', \n",
    "                  'SEASON_x', 'SEASON_y', 'PLAYER_ID_x', 'PLAYER_ID_y'], axis=1, inplace=True)"
   ]
  },
  {
   "cell_type": "code",
   "execution_count": 51,
   "id": "24830622-7ade-4fbc-8e15-abe933fa0718",
   "metadata": {},
   "outputs": [
    {
     "data": {
      "text/html": [
       "<div>\n",
       "<style scoped>\n",
       "    .dataframe tbody tr th:only-of-type {\n",
       "        vertical-align: middle;\n",
       "    }\n",
       "\n",
       "    .dataframe tbody tr th {\n",
       "        vertical-align: top;\n",
       "    }\n",
       "\n",
       "    .dataframe thead th {\n",
       "        text-align: right;\n",
       "    }\n",
       "</style>\n",
       "<table border=\"1\" class=\"dataframe\">\n",
       "  <thead>\n",
       "    <tr style=\"text-align: right;\">\n",
       "      <th></th>\n",
       "      <th>GAME_ID</th>\n",
       "      <th>PLAYER1_ID</th>\n",
       "      <th>PLAYER1_TEAM_ID</th>\n",
       "      <th>PLAYER2_ID</th>\n",
       "      <th>PLAYER2_TEAM_ID</th>\n",
       "      <th>DISPLAY_FIRST_LAST_x</th>\n",
       "      <th>TEAM_NAME_x</th>\n",
       "      <th>HEIGHT_x</th>\n",
       "      <th>WEIGHT_x</th>\n",
       "      <th>WINGSPAN_x</th>\n",
       "      <th>DISPLAY_FIRST_LAST_y</th>\n",
       "      <th>TEAM_NAME_y</th>\n",
       "      <th>HEIGHT_y</th>\n",
       "      <th>WEIGHT_y</th>\n",
       "      <th>WINGSPAN_y</th>\n",
       "    </tr>\n",
       "  </thead>\n",
       "  <tbody>\n",
       "    <tr>\n",
       "      <th>0</th>\n",
       "      <td>0021500003</td>\n",
       "      <td>101106</td>\n",
       "      <td>1610612744</td>\n",
       "      <td>203076</td>\n",
       "      <td>1610612740</td>\n",
       "      <td>Andrew Bogut</td>\n",
       "      <td>Bucks</td>\n",
       "      <td>84</td>\n",
       "      <td>260</td>\n",
       "      <td>87.0</td>\n",
       "      <td>Anthony Davis</td>\n",
       "      <td>Lakers</td>\n",
       "      <td>82</td>\n",
       "      <td>253</td>\n",
       "      <td>89.5</td>\n",
       "    </tr>\n",
       "  </tbody>\n",
       "</table>\n",
       "</div>"
      ],
      "text/plain": [
       "      GAME_ID PLAYER1_ID  PLAYER1_TEAM_ID PLAYER2_ID  PLAYER2_TEAM_ID  \\\n",
       "0  0021500003     101106       1610612744     203076       1610612740   \n",
       "\n",
       "  DISPLAY_FIRST_LAST_x TEAM_NAME_x  HEIGHT_x  WEIGHT_x  WINGSPAN_x  \\\n",
       "0         Andrew Bogut       Bucks        84       260        87.0   \n",
       "\n",
       "  DISPLAY_FIRST_LAST_y TEAM_NAME_y  HEIGHT_y  WEIGHT_y  WINGSPAN_y  \n",
       "0        Anthony Davis      Lakers        82       253        89.5  "
      ]
     },
     "execution_count": 51,
     "metadata": {},
     "output_type": "execute_result"
    }
   ],
   "source": [
    "pre_jump_v1[:1]"
   ]
  },
  {
   "cell_type": "code",
   "execution_count": 52,
   "id": "afce8ba6-f7b7-42e2-b65d-8b126819fb24",
   "metadata": {},
   "outputs": [],
   "source": [
    "pre_jump_v1.rename(columns={'PLAYER1_TEAM_ID': 'P1_TM_ID', 'PLAYER2_TEAM_ID': 'P2_TM_ID', \n",
    "                         'DISPLAY_FIRST_LAST_x' : 'P1_NM', 'TEAM_NAME_x' : 'P1_TM_NM', \n",
    "                         'HEIGHT_x' : 'P1_HT', 'WEIGHT_x' : 'P1_WT', 'DISPLAY_FIRST_LAST_y' : 'P2_NM', \n",
    "                         'TEAM_NAME_y' : 'P2_TM_NM', 'HEIGHT_y' : 'P2_HT', 'WEIGHT_y' : 'P2_WT', 'WINGSPAN_x' : 'P1_WS', 'WINGSPAN_y' : 'P2_WS'}, inplace=True)"
   ]
  },
  {
   "cell_type": "code",
   "execution_count": 53,
   "id": "bb4a1ee0-f3aa-4ece-86b5-755cdc1e608b",
   "metadata": {},
   "outputs": [],
   "source": [
    "pre_jump_v2 = pre_jump_v1[['GAME_ID', 'PLAYER1_ID', 'P1_TM_ID', 'P1_TM_NM', 'P1_HT', 'P1_WT', 'P1_WS', 'PLAYER2_ID', 'P2_TM_ID', 'P2_TM_NM', 'P2_HT', 'P2_WT', 'P2_WS']]"
   ]
  },
  {
   "cell_type": "code",
   "execution_count": 54,
   "id": "892faa84-d80d-4c70-bb3c-54f1e2cc12d7",
   "metadata": {},
   "outputs": [
    {
     "data": {
      "text/html": [
       "<div>\n",
       "<style scoped>\n",
       "    .dataframe tbody tr th:only-of-type {\n",
       "        vertical-align: middle;\n",
       "    }\n",
       "\n",
       "    .dataframe tbody tr th {\n",
       "        vertical-align: top;\n",
       "    }\n",
       "\n",
       "    .dataframe thead th {\n",
       "        text-align: right;\n",
       "    }\n",
       "</style>\n",
       "<table border=\"1\" class=\"dataframe\">\n",
       "  <thead>\n",
       "    <tr style=\"text-align: right;\">\n",
       "      <th></th>\n",
       "      <th>GAME_ID</th>\n",
       "      <th>PLAYER1_ID</th>\n",
       "      <th>P1_TM_ID</th>\n",
       "      <th>P1_TM_NM</th>\n",
       "      <th>P1_HT</th>\n",
       "      <th>P1_WT</th>\n",
       "      <th>P1_WS</th>\n",
       "      <th>PLAYER2_ID</th>\n",
       "      <th>P2_TM_ID</th>\n",
       "      <th>P2_TM_NM</th>\n",
       "      <th>P2_HT</th>\n",
       "      <th>P2_WT</th>\n",
       "      <th>P2_WS</th>\n",
       "    </tr>\n",
       "  </thead>\n",
       "  <tbody>\n",
       "    <tr>\n",
       "      <th>2837</th>\n",
       "      <td>0022100055</td>\n",
       "      <td>1628964</td>\n",
       "      <td>1610612753</td>\n",
       "      <td>Magic</td>\n",
       "      <td>84</td>\n",
       "      <td>231</td>\n",
       "      <td>94.0</td>\n",
       "      <td>203486</td>\n",
       "      <td>1610612766</td>\n",
       "      <td>Hornets</td>\n",
       "      <td>83</td>\n",
       "      <td>254</td>\n",
       "      <td>83.00</td>\n",
       "    </tr>\n",
       "    <tr>\n",
       "      <th>9214</th>\n",
       "      <td>0022100055</td>\n",
       "      <td>1630591</td>\n",
       "      <td>1610612753</td>\n",
       "      <td>Magic</td>\n",
       "      <td>77</td>\n",
       "      <td>205</td>\n",
       "      <td>NaN</td>\n",
       "      <td>202330</td>\n",
       "      <td>1610612766</td>\n",
       "      <td>Hornets</td>\n",
       "      <td>79</td>\n",
       "      <td>225</td>\n",
       "      <td>79.75</td>\n",
       "    </tr>\n",
       "  </tbody>\n",
       "</table>\n",
       "</div>"
      ],
      "text/plain": [
       "         GAME_ID PLAYER1_ID    P1_TM_ID P1_TM_NM  P1_HT  P1_WT  P1_WS  \\\n",
       "2837  0022100055    1628964  1610612753    Magic     84    231   94.0   \n",
       "9214  0022100055    1630591  1610612753    Magic     77    205    NaN   \n",
       "\n",
       "     PLAYER2_ID    P2_TM_ID P2_TM_NM  P2_HT  P2_WT  P2_WS  \n",
       "2837     203486  1610612766  Hornets     83    254  83.00  \n",
       "9214     202330  1610612766  Hornets     79    225  79.75  "
      ]
     },
     "execution_count": 54,
     "metadata": {},
     "output_type": "execute_result"
    }
   ],
   "source": [
    "pre_jump_v2[pre_jump_v2['GAME_ID'] == '0022100055']"
   ]
  },
  {
   "cell_type": "code",
   "execution_count": 55,
   "id": "7dbaefe4-8927-4572-859f-c1fe91a50410",
   "metadata": {},
   "outputs": [
    {
     "name": "stderr",
     "output_type": "stream",
     "text": [
      "C:\\Users\\llove410\\AppData\\Local\\Temp/ipykernel_20460/3375454941.py:1: SettingWithCopyWarning: \n",
      "A value is trying to be set on a copy of a slice from a DataFrame.\n",
      "Try using .loc[row_indexer,col_indexer] = value instead\n",
      "\n",
      "See the caveats in the documentation: https://pandas.pydata.org/pandas-docs/stable/user_guide/indexing.html#returning-a-view-versus-a-copy\n",
      "  pre_jump_v2['P1_WS'] = pre_jump_v2['P1_WS'].fillna(pre_jump_v2['P1_HT'])\n",
      "C:\\Users\\llove410\\AppData\\Local\\Temp/ipykernel_20460/3375454941.py:2: SettingWithCopyWarning: \n",
      "A value is trying to be set on a copy of a slice from a DataFrame.\n",
      "Try using .loc[row_indexer,col_indexer] = value instead\n",
      "\n",
      "See the caveats in the documentation: https://pandas.pydata.org/pandas-docs/stable/user_guide/indexing.html#returning-a-view-versus-a-copy\n",
      "  pre_jump_v2['P2_WS'] = pre_jump_v2['P2_WS'].fillna(pre_jump_v2['P2_HT'])\n"
     ]
    }
   ],
   "source": [
    "pre_jump_v2['P1_WS'] = pre_jump_v2['P1_WS'].fillna(pre_jump_v2['P1_HT'])\n",
    "pre_jump_v2['P2_WS'] = pre_jump_v2['P2_WS'].fillna(pre_jump_v2['P2_HT'])"
   ]
  },
  {
   "cell_type": "code",
   "execution_count": 56,
   "id": "d71bbe13-d542-4780-be25-27bb84a59060",
   "metadata": {},
   "outputs": [
    {
     "name": "stderr",
     "output_type": "stream",
     "text": [
      "C:\\Users\\llove410\\AppData\\Local\\Temp/ipykernel_20460/1953978302.py:1: SettingWithCopyWarning: \n",
      "A value is trying to be set on a copy of a slice from a DataFrame.\n",
      "Try using .loc[row_indexer,col_indexer] = value instead\n",
      "\n",
      "See the caveats in the documentation: https://pandas.pydata.org/pandas-docs/stable/user_guide/indexing.html#returning-a-view-versus-a-copy\n",
      "  pre_jump_v2['P1_HT_DIFF'] = pre_jump_v2['P1_HT'] - pre_jump_v2['P2_HT']\n"
     ]
    }
   ],
   "source": [
    "pre_jump_v2['P1_HT_DIFF'] = pre_jump_v2['P1_HT'] - pre_jump_v2['P2_HT']\n",
    "pre_jump_v2['P2_HT_DIFF'] = pre_jump_v2['P2_HT'] - pre_jump_v2['P1_HT']\n",
    "pre_jump_v2['P1_WT_DIFF'] = pre_jump_v2['P1_WT'] - pre_jump_v2['P2_WT']\n",
    "pre_jump_v2['P2_WT_DIFF'] = pre_jump_v2['P2_WT'] - pre_jump_v2['P1_WT']\n",
    "pre_jump_v2['P1_WS_DIFF'] = pre_jump_v2['P1_WS'] - pre_jump_v2['P2_WS']\n",
    "pre_jump_v2['P2_WS_DIFF'] = pre_jump_v2['P2_WS'] - pre_jump_v2['P1_WS']"
   ]
  },
  {
   "cell_type": "code",
   "execution_count": 57,
   "id": "298f5366-d41f-4949-a4c0-6526def3f40a",
   "metadata": {},
   "outputs": [
    {
     "data": {
      "text/html": [
       "<div>\n",
       "<style scoped>\n",
       "    .dataframe tbody tr th:only-of-type {\n",
       "        vertical-align: middle;\n",
       "    }\n",
       "\n",
       "    .dataframe tbody tr th {\n",
       "        vertical-align: top;\n",
       "    }\n",
       "\n",
       "    .dataframe thead th {\n",
       "        text-align: right;\n",
       "    }\n",
       "</style>\n",
       "<table border=\"1\" class=\"dataframe\">\n",
       "  <thead>\n",
       "    <tr style=\"text-align: right;\">\n",
       "      <th></th>\n",
       "      <th>GAME_ID</th>\n",
       "      <th>PLAYER1_ID</th>\n",
       "      <th>P1_TM_ID</th>\n",
       "      <th>P1_TM_NM</th>\n",
       "      <th>P1_HT</th>\n",
       "      <th>P1_WT</th>\n",
       "      <th>P1_WS</th>\n",
       "      <th>PLAYER2_ID</th>\n",
       "      <th>P2_TM_ID</th>\n",
       "      <th>P2_TM_NM</th>\n",
       "      <th>P2_HT</th>\n",
       "      <th>P2_WT</th>\n",
       "      <th>P2_WS</th>\n",
       "      <th>P1_HT_DIFF</th>\n",
       "      <th>P2_HT_DIFF</th>\n",
       "      <th>P1_WT_DIFF</th>\n",
       "      <th>P2_WT_DIFF</th>\n",
       "      <th>P1_WS_DIFF</th>\n",
       "      <th>P2_WS_DIFF</th>\n",
       "    </tr>\n",
       "  </thead>\n",
       "  <tbody>\n",
       "    <tr>\n",
       "      <th>0</th>\n",
       "      <td>0021500003</td>\n",
       "      <td>101106</td>\n",
       "      <td>1610612744</td>\n",
       "      <td>Bucks</td>\n",
       "      <td>84</td>\n",
       "      <td>260</td>\n",
       "      <td>87.00</td>\n",
       "      <td>203076</td>\n",
       "      <td>1610612740</td>\n",
       "      <td>Lakers</td>\n",
       "      <td>82</td>\n",
       "      <td>253</td>\n",
       "      <td>89.5</td>\n",
       "      <td>2</td>\n",
       "      <td>-2</td>\n",
       "      <td>7</td>\n",
       "      <td>-7</td>\n",
       "      <td>-2.50</td>\n",
       "      <td>2.50</td>\n",
       "    </tr>\n",
       "    <tr>\n",
       "      <th>1</th>\n",
       "      <td>0021500996</td>\n",
       "      <td>101106</td>\n",
       "      <td>1610612744</td>\n",
       "      <td>Bucks</td>\n",
       "      <td>84</td>\n",
       "      <td>260</td>\n",
       "      <td>87.00</td>\n",
       "      <td>203076</td>\n",
       "      <td>1610612740</td>\n",
       "      <td>Lakers</td>\n",
       "      <td>82</td>\n",
       "      <td>253</td>\n",
       "      <td>89.5</td>\n",
       "      <td>2</td>\n",
       "      <td>-2</td>\n",
       "      <td>7</td>\n",
       "      <td>-7</td>\n",
       "      <td>-2.50</td>\n",
       "      <td>2.50</td>\n",
       "    </tr>\n",
       "    <tr>\n",
       "      <th>2</th>\n",
       "      <td>0021600250</td>\n",
       "      <td>101106</td>\n",
       "      <td>1610612742</td>\n",
       "      <td>Bucks</td>\n",
       "      <td>84</td>\n",
       "      <td>260</td>\n",
       "      <td>87.00</td>\n",
       "      <td>203076</td>\n",
       "      <td>1610612740</td>\n",
       "      <td>Lakers</td>\n",
       "      <td>82</td>\n",
       "      <td>253</td>\n",
       "      <td>89.5</td>\n",
       "      <td>2</td>\n",
       "      <td>-2</td>\n",
       "      <td>7</td>\n",
       "      <td>-7</td>\n",
       "      <td>-2.50</td>\n",
       "      <td>2.50</td>\n",
       "    </tr>\n",
       "    <tr>\n",
       "      <th>3</th>\n",
       "      <td>0021500003</td>\n",
       "      <td>203105</td>\n",
       "      <td>1610612744</td>\n",
       "      <td>Warriors</td>\n",
       "      <td>83</td>\n",
       "      <td>265</td>\n",
       "      <td>89.75</td>\n",
       "      <td>203076</td>\n",
       "      <td>1610612740</td>\n",
       "      <td>Lakers</td>\n",
       "      <td>82</td>\n",
       "      <td>253</td>\n",
       "      <td>89.5</td>\n",
       "      <td>1</td>\n",
       "      <td>-1</td>\n",
       "      <td>12</td>\n",
       "      <td>-12</td>\n",
       "      <td>0.25</td>\n",
       "      <td>-0.25</td>\n",
       "    </tr>\n",
       "    <tr>\n",
       "      <th>4</th>\n",
       "      <td>0021500348</td>\n",
       "      <td>2200</td>\n",
       "      <td>1610612741</td>\n",
       "      <td>Lakers</td>\n",
       "      <td>84</td>\n",
       "      <td>250</td>\n",
       "      <td>84.00</td>\n",
       "      <td>203076</td>\n",
       "      <td>1610612740</td>\n",
       "      <td>Lakers</td>\n",
       "      <td>82</td>\n",
       "      <td>253</td>\n",
       "      <td>89.5</td>\n",
       "      <td>2</td>\n",
       "      <td>-2</td>\n",
       "      <td>-3</td>\n",
       "      <td>3</td>\n",
       "      <td>-5.50</td>\n",
       "      <td>5.50</td>\n",
       "    </tr>\n",
       "    <tr>\n",
       "      <th>...</th>\n",
       "      <td>...</td>\n",
       "      <td>...</td>\n",
       "      <td>...</td>\n",
       "      <td>...</td>\n",
       "      <td>...</td>\n",
       "      <td>...</td>\n",
       "      <td>...</td>\n",
       "      <td>...</td>\n",
       "      <td>...</td>\n",
       "      <td>...</td>\n",
       "      <td>...</td>\n",
       "      <td>...</td>\n",
       "      <td>...</td>\n",
       "      <td>...</td>\n",
       "      <td>...</td>\n",
       "      <td>...</td>\n",
       "      <td>...</td>\n",
       "      <td>...</td>\n",
       "      <td>...</td>\n",
       "    </tr>\n",
       "    <tr>\n",
       "      <th>13753</th>\n",
       "      <td>0022100474</td>\n",
       "      <td>1630526</td>\n",
       "      <td>1610612760</td>\n",
       "      <td>Thunder</td>\n",
       "      <td>80</td>\n",
       "      <td>242</td>\n",
       "      <td>81.75</td>\n",
       "      <td>1627822</td>\n",
       "      <td>1610612743</td>\n",
       "      <td></td>\n",
       "      <td>83</td>\n",
       "      <td>220</td>\n",
       "      <td>83.0</td>\n",
       "      <td>-3</td>\n",
       "      <td>3</td>\n",
       "      <td>22</td>\n",
       "      <td>-22</td>\n",
       "      <td>-1.25</td>\n",
       "      <td>1.25</td>\n",
       "    </tr>\n",
       "    <tr>\n",
       "      <th>13754</th>\n",
       "      <td>0022100370</td>\n",
       "      <td>1629622</td>\n",
       "      <td>1610612748</td>\n",
       "      <td>Heat</td>\n",
       "      <td>77</td>\n",
       "      <td>215</td>\n",
       "      <td>77.00</td>\n",
       "      <td>1630606</td>\n",
       "      <td>1610612749</td>\n",
       "      <td>Heat</td>\n",
       "      <td>76</td>\n",
       "      <td>205</td>\n",
       "      <td>76.0</td>\n",
       "      <td>1</td>\n",
       "      <td>-1</td>\n",
       "      <td>10</td>\n",
       "      <td>-10</td>\n",
       "      <td>1.00</td>\n",
       "      <td>-1.00</td>\n",
       "    </tr>\n",
       "    <tr>\n",
       "      <th>13755</th>\n",
       "      <td>0022100552</td>\n",
       "      <td>1630565</td>\n",
       "      <td>1610612755</td>\n",
       "      <td></td>\n",
       "      <td>77</td>\n",
       "      <td>210</td>\n",
       "      <td>82.75</td>\n",
       "      <td>1630243</td>\n",
       "      <td>1610612745</td>\n",
       "      <td>Rockets</td>\n",
       "      <td>78</td>\n",
       "      <td>190</td>\n",
       "      <td>78.0</td>\n",
       "      <td>-1</td>\n",
       "      <td>1</td>\n",
       "      <td>20</td>\n",
       "      <td>-20</td>\n",
       "      <td>4.75</td>\n",
       "      <td>-4.75</td>\n",
       "    </tr>\n",
       "    <tr>\n",
       "      <th>13756</th>\n",
       "      <td>0022100554</td>\n",
       "      <td>1630561</td>\n",
       "      <td>1610612751</td>\n",
       "      <td>Nets</td>\n",
       "      <td>76</td>\n",
       "      <td>204</td>\n",
       "      <td>80.75</td>\n",
       "      <td>1630583</td>\n",
       "      <td>1610612763</td>\n",
       "      <td>Grizzlies</td>\n",
       "      <td>83</td>\n",
       "      <td>215</td>\n",
       "      <td>83.0</td>\n",
       "      <td>-7</td>\n",
       "      <td>7</td>\n",
       "      <td>-11</td>\n",
       "      <td>11</td>\n",
       "      <td>-2.25</td>\n",
       "      <td>2.25</td>\n",
       "    </tr>\n",
       "    <tr>\n",
       "      <th>13757</th>\n",
       "      <td>0022100789</td>\n",
       "      <td>1630678</td>\n",
       "      <td>1610612754</td>\n",
       "      <td>Pacers</td>\n",
       "      <td>77</td>\n",
       "      <td>230</td>\n",
       "      <td>77.00</td>\n",
       "      <td>1629744</td>\n",
       "      <td>1610612741</td>\n",
       "      <td>Bulls</td>\n",
       "      <td>75</td>\n",
       "      <td>190</td>\n",
       "      <td>75.0</td>\n",
       "      <td>2</td>\n",
       "      <td>-2</td>\n",
       "      <td>40</td>\n",
       "      <td>-40</td>\n",
       "      <td>2.00</td>\n",
       "      <td>-2.00</td>\n",
       "    </tr>\n",
       "  </tbody>\n",
       "</table>\n",
       "<p>13758 rows × 19 columns</p>\n",
       "</div>"
      ],
      "text/plain": [
       "          GAME_ID PLAYER1_ID    P1_TM_ID  P1_TM_NM  P1_HT  P1_WT  P1_WS  \\\n",
       "0      0021500003     101106  1610612744     Bucks     84    260  87.00   \n",
       "1      0021500996     101106  1610612744     Bucks     84    260  87.00   \n",
       "2      0021600250     101106  1610612742     Bucks     84    260  87.00   \n",
       "3      0021500003     203105  1610612744  Warriors     83    265  89.75   \n",
       "4      0021500348       2200  1610612741    Lakers     84    250  84.00   \n",
       "...           ...        ...         ...       ...    ...    ...    ...   \n",
       "13753  0022100474    1630526  1610612760   Thunder     80    242  81.75   \n",
       "13754  0022100370    1629622  1610612748      Heat     77    215  77.00   \n",
       "13755  0022100552    1630565  1610612755               77    210  82.75   \n",
       "13756  0022100554    1630561  1610612751      Nets     76    204  80.75   \n",
       "13757  0022100789    1630678  1610612754    Pacers     77    230  77.00   \n",
       "\n",
       "      PLAYER2_ID    P2_TM_ID   P2_TM_NM  P2_HT  P2_WT  P2_WS  P1_HT_DIFF  \\\n",
       "0         203076  1610612740     Lakers     82    253   89.5           2   \n",
       "1         203076  1610612740     Lakers     82    253   89.5           2   \n",
       "2         203076  1610612740     Lakers     82    253   89.5           2   \n",
       "3         203076  1610612740     Lakers     82    253   89.5           1   \n",
       "4         203076  1610612740     Lakers     82    253   89.5           2   \n",
       "...          ...         ...        ...    ...    ...    ...         ...   \n",
       "13753    1627822  1610612743                83    220   83.0          -3   \n",
       "13754    1630606  1610612749       Heat     76    205   76.0           1   \n",
       "13755    1630243  1610612745    Rockets     78    190   78.0          -1   \n",
       "13756    1630583  1610612763  Grizzlies     83    215   83.0          -7   \n",
       "13757    1629744  1610612741      Bulls     75    190   75.0           2   \n",
       "\n",
       "       P2_HT_DIFF  P1_WT_DIFF  P2_WT_DIFF  P1_WS_DIFF  P2_WS_DIFF  \n",
       "0              -2           7          -7       -2.50        2.50  \n",
       "1              -2           7          -7       -2.50        2.50  \n",
       "2              -2           7          -7       -2.50        2.50  \n",
       "3              -1          12         -12        0.25       -0.25  \n",
       "4              -2          -3           3       -5.50        5.50  \n",
       "...           ...         ...         ...         ...         ...  \n",
       "13753           3          22         -22       -1.25        1.25  \n",
       "13754          -1          10         -10        1.00       -1.00  \n",
       "13755           1          20         -20        4.75       -4.75  \n",
       "13756           7         -11          11       -2.25        2.25  \n",
       "13757          -2          40         -40        2.00       -2.00  \n",
       "\n",
       "[13758 rows x 19 columns]"
      ]
     },
     "execution_count": 57,
     "metadata": {},
     "output_type": "execute_result"
    }
   ],
   "source": [
    "pre_jump_v2"
   ]
  },
  {
   "cell_type": "code",
   "execution_count": 58,
   "id": "ff80cf0b-19fc-4646-8274-618aff5e504e",
   "metadata": {},
   "outputs": [],
   "source": [
    "jb_winners = pre_jump_v2[['PLAYER1_ID', 'P1_HT', 'P1_WT', 'P1_WS', 'P1_HT_DIFF', 'P1_WT_DIFF', 'P1_WS_DIFF']]\n",
    "jb_losers = pre_jump_v2[['PLAYER2_ID', 'P2_HT', 'P2_WT', 'P2_WS', 'P2_HT_DIFF', 'P2_WT_DIFF', 'P2_WS_DIFF']]"
   ]
  },
  {
   "cell_type": "code",
   "execution_count": 59,
   "id": "10163b01-feb3-4501-90fc-138fe212b379",
   "metadata": {},
   "outputs": [
    {
     "data": {
      "text/plain": [
       "(13758, 13758)"
      ]
     },
     "execution_count": 59,
     "metadata": {},
     "output_type": "execute_result"
    }
   ],
   "source": [
    "len(jb_winners), len(jb_losers)"
   ]
  },
  {
   "cell_type": "code",
   "execution_count": 60,
   "id": "372ff968-6f37-4b1c-859e-a05a771a4899",
   "metadata": {},
   "outputs": [],
   "source": [
    "final_winners = jb_winners.merge(jb_stats, left_on='PLAYER1_ID', right_on='PLAYER1_ID', how='inner').copy()\n",
    "final_losers = jb_losers.merge(jb_stats, left_on='PLAYER2_ID', right_on='PLAYER1_ID', how='inner').copy()"
   ]
  },
  {
   "cell_type": "code",
   "execution_count": 61,
   "id": "1fdf7b30-c1fe-40e5-a40f-82ef0398edbe",
   "metadata": {},
   "outputs": [],
   "source": [
    "final_losers.drop('PLAYER1_ID', axis=1, inplace=True)"
   ]
  },
  {
   "cell_type": "code",
   "execution_count": 62,
   "id": "ac815f06-5adf-40e0-946b-8b6815b8f253",
   "metadata": {},
   "outputs": [],
   "source": [
    "final_winners.rename(columns={'PLAYER1_ID': 'PLAYER_ID', 'P1_HT': 'HT', 'P1_WT' : 'WT', 'P1_HT_DIFF' : 'HT_DIFF', \n",
    "                              'P1_WT_DIFF' : 'WT_DIFF', 'P1_WS' : 'WS', 'P1_WS_DIFF' : 'WS_DIFF'}, inplace=True)"
   ]
  },
  {
   "cell_type": "code",
   "execution_count": 63,
   "id": "99d05eb0-cc3f-48f2-94e9-7fab4b27b575",
   "metadata": {},
   "outputs": [],
   "source": [
    "final_losers.rename(columns={'PLAYER2_ID': 'PLAYER_ID', 'P2_HT': 'HT', 'P2_WT' : 'WT', 'P2_HT_DIFF' : 'HT_DIFF', \n",
    "                             'P2_WT_DIFF' : 'WT_DIFF', 'P2_WS' : 'WS', 'P2_WS_DIFF' : 'WS_DIFF'}, inplace=True)"
   ]
  },
  {
   "cell_type": "code",
   "execution_count": 64,
   "id": "5ae392c8-5189-42f5-9da4-c8f6e93bded4",
   "metadata": {},
   "outputs": [
    {
     "data": {
      "text/plain": [
       "(13758, 13758)"
      ]
     },
     "execution_count": 64,
     "metadata": {},
     "output_type": "execute_result"
    }
   ],
   "source": [
    "len(final_winners),len(final_losers)"
   ]
  },
  {
   "cell_type": "code",
   "execution_count": 65,
   "id": "21a764b9-7052-4e18-9d01-f538373fc567",
   "metadata": {},
   "outputs": [],
   "source": [
    "final_winners['Won'] = 1\n",
    "final_losers['Won'] = 0"
   ]
  },
  {
   "cell_type": "code",
   "execution_count": 66,
   "id": "db596dca-3f50-491d-bd9c-3d8b4f2ef324",
   "metadata": {},
   "outputs": [
    {
     "data": {
      "text/html": [
       "<div>\n",
       "<style scoped>\n",
       "    .dataframe tbody tr th:only-of-type {\n",
       "        vertical-align: middle;\n",
       "    }\n",
       "\n",
       "    .dataframe tbody tr th {\n",
       "        vertical-align: top;\n",
       "    }\n",
       "\n",
       "    .dataframe thead th {\n",
       "        text-align: right;\n",
       "    }\n",
       "</style>\n",
       "<table border=\"1\" class=\"dataframe\">\n",
       "  <thead>\n",
       "    <tr style=\"text-align: right;\">\n",
       "      <th></th>\n",
       "      <th>PLAYER_ID</th>\n",
       "      <th>HT</th>\n",
       "      <th>WT</th>\n",
       "      <th>WS</th>\n",
       "      <th>HT_DIFF</th>\n",
       "      <th>WT_DIFF</th>\n",
       "      <th>WS_DIFF</th>\n",
       "      <th>JumpBallWins</th>\n",
       "      <th>JumpBallLosses</th>\n",
       "      <th>TotalJBs</th>\n",
       "      <th>JBWinPct</th>\n",
       "      <th>Won</th>\n",
       "    </tr>\n",
       "  </thead>\n",
       "  <tbody>\n",
       "    <tr>\n",
       "      <th>0</th>\n",
       "      <td>101106</td>\n",
       "      <td>84</td>\n",
       "      <td>260</td>\n",
       "      <td>87.0</td>\n",
       "      <td>2</td>\n",
       "      <td>7</td>\n",
       "      <td>-2.5</td>\n",
       "      <td>57.0</td>\n",
       "      <td>50.0</td>\n",
       "      <td>107.0</td>\n",
       "      <td>0.533</td>\n",
       "      <td>1</td>\n",
       "    </tr>\n",
       "  </tbody>\n",
       "</table>\n",
       "</div>"
      ],
      "text/plain": [
       "  PLAYER_ID  HT   WT    WS  HT_DIFF  WT_DIFF  WS_DIFF  JumpBallWins  \\\n",
       "0    101106  84  260  87.0        2        7     -2.5          57.0   \n",
       "\n",
       "   JumpBallLosses  TotalJBs  JBWinPct  Won  \n",
       "0            50.0     107.0     0.533    1  "
      ]
     },
     "execution_count": 66,
     "metadata": {},
     "output_type": "execute_result"
    }
   ],
   "source": [
    "final_winners[:1]"
   ]
  },
  {
   "cell_type": "code",
   "execution_count": 67,
   "id": "87c9b715-6604-4831-8ce4-214ee9ef7716",
   "metadata": {},
   "outputs": [
    {
     "data": {
      "text/html": [
       "<div>\n",
       "<style scoped>\n",
       "    .dataframe tbody tr th:only-of-type {\n",
       "        vertical-align: middle;\n",
       "    }\n",
       "\n",
       "    .dataframe tbody tr th {\n",
       "        vertical-align: top;\n",
       "    }\n",
       "\n",
       "    .dataframe thead th {\n",
       "        text-align: right;\n",
       "    }\n",
       "</style>\n",
       "<table border=\"1\" class=\"dataframe\">\n",
       "  <thead>\n",
       "    <tr style=\"text-align: right;\">\n",
       "      <th></th>\n",
       "      <th>PLAYER_ID</th>\n",
       "      <th>HT</th>\n",
       "      <th>WT</th>\n",
       "      <th>WS</th>\n",
       "      <th>HT_DIFF</th>\n",
       "      <th>WT_DIFF</th>\n",
       "      <th>WS_DIFF</th>\n",
       "      <th>JumpBallWins</th>\n",
       "      <th>JumpBallLosses</th>\n",
       "      <th>TotalJBs</th>\n",
       "      <th>JBWinPct</th>\n",
       "      <th>Won</th>\n",
       "    </tr>\n",
       "  </thead>\n",
       "  <tbody>\n",
       "    <tr>\n",
       "      <th>0</th>\n",
       "      <td>203076</td>\n",
       "      <td>82</td>\n",
       "      <td>253</td>\n",
       "      <td>89.5</td>\n",
       "      <td>-2</td>\n",
       "      <td>-7</td>\n",
       "      <td>2.5</td>\n",
       "      <td>221.0</td>\n",
       "      <td>218.0</td>\n",
       "      <td>439.0</td>\n",
       "      <td>0.503</td>\n",
       "      <td>0</td>\n",
       "    </tr>\n",
       "  </tbody>\n",
       "</table>\n",
       "</div>"
      ],
      "text/plain": [
       "  PLAYER_ID  HT   WT    WS  HT_DIFF  WT_DIFF  WS_DIFF  JumpBallWins  \\\n",
       "0    203076  82  253  89.5       -2       -7      2.5         221.0   \n",
       "\n",
       "   JumpBallLosses  TotalJBs  JBWinPct  Won  \n",
       "0           218.0     439.0     0.503    0  "
      ]
     },
     "execution_count": 67,
     "metadata": {},
     "output_type": "execute_result"
    }
   ],
   "source": [
    "final_losers[:1]"
   ]
  },
  {
   "cell_type": "code",
   "execution_count": 68,
   "id": "49f1a72a-a13d-4321-a6f8-af57d52bab9c",
   "metadata": {},
   "outputs": [],
   "source": [
    "final_df = pd.concat([final_winners, final_losers], ignore_index=True)"
   ]
  },
  {
   "cell_type": "code",
   "execution_count": 70,
   "id": "581d57d5-2b60-408c-90c5-f128806f75ed",
   "metadata": {},
   "outputs": [
    {
     "name": "stderr",
     "output_type": "stream",
     "text": [
      "C:\\Users\\llove410\\AppData\\Local\\Temp/ipykernel_20460/3276123413.py:3: UserWarning: To output multiple subplots, the figure containing the passed axes is being cleared\n",
      "  final_df.hist(ax = ax)\n"
     ]
    },
    {
     "data": {
      "image/png": "[encoded data removed]",
      "text/plain": [
       "<Figure size 1080x1440 with 12 Axes>"
      ]
     },
     "metadata": {
      "needs_background": "light"
     },
     "output_type": "display_data"
    }
   ],
   "source": [
    "fig = plt.figure(figsize = (15,20))\n",
    "ax = fig.gca()\n",
    "final_df.hist(ax = ax)\n",
    "plt.show()"
   ]
  },
  {
   "cell_type": "code",
   "execution_count": 91,
   "id": "baf6d4a6-946e-401e-ae3c-7d3894a65520",
   "metadata": {},
   "outputs": [
    {
     "data": {
      "text/html": [
       "<div>\n",
       "<style scoped>\n",
       "    .dataframe tbody tr th:only-of-type {\n",
       "        vertical-align: middle;\n",
       "    }\n",
       "\n",
       "    .dataframe tbody tr th {\n",
       "        vertical-align: top;\n",
       "    }\n",
       "\n",
       "    .dataframe thead th {\n",
       "        text-align: right;\n",
       "    }\n",
       "</style>\n",
       "<table border=\"1\" class=\"dataframe\">\n",
       "  <thead>\n",
       "    <tr style=\"text-align: right;\">\n",
       "      <th></th>\n",
       "      <th>HT</th>\n",
       "      <th>WT</th>\n",
       "      <th>WS</th>\n",
       "      <th>HT_DIFF</th>\n",
       "      <th>WT_DIFF</th>\n",
       "      <th>WS_DIFF</th>\n",
       "      <th>JumpBallWins</th>\n",
       "      <th>JumpBallLosses</th>\n",
       "      <th>TotalJBs</th>\n",
       "      <th>JBWinPct</th>\n",
       "      <th>Won</th>\n",
       "    </tr>\n",
       "  </thead>\n",
       "  <tbody>\n",
       "    <tr>\n",
       "      <th>count</th>\n",
       "      <td>27516.000000</td>\n",
       "      <td>27516.000000</td>\n",
       "      <td>27516.000000</td>\n",
       "      <td>27516.000000</td>\n",
       "      <td>27516.000000</td>\n",
       "      <td>27516.000000</td>\n",
       "      <td>27516.000000</td>\n",
       "      <td>27516.000000</td>\n",
       "      <td>27516.000000</td>\n",
       "      <td>27516.00000</td>\n",
       "      <td>27516.000000</td>\n",
       "    </tr>\n",
       "    <tr>\n",
       "      <th>mean</th>\n",
       "      <td>81.480702</td>\n",
       "      <td>243.976595</td>\n",
       "      <td>81.480702</td>\n",
       "      <td>0.000000</td>\n",
       "      <td>0.000000</td>\n",
       "      <td>0.000000</td>\n",
       "      <td>114.022750</td>\n",
       "      <td>111.558729</td>\n",
       "      <td>225.581480</td>\n",
       "      <td>0.49999</td>\n",
       "      <td>0.500000</td>\n",
       "    </tr>\n",
       "    <tr>\n",
       "      <th>std</th>\n",
       "      <td>2.846198</td>\n",
       "      <td>24.522892</td>\n",
       "      <td>2.846198</td>\n",
       "      <td>2.937832</td>\n",
       "      <td>27.243715</td>\n",
       "      <td>2.937832</td>\n",
       "      <td>96.527233</td>\n",
       "      <td>93.440415</td>\n",
       "      <td>189.651065</td>\n",
       "      <td>0.08872</td>\n",
       "      <td>0.500009</td>\n",
       "    </tr>\n",
       "    <tr>\n",
       "      <th>min</th>\n",
       "      <td>69.000000</td>\n",
       "      <td>160.000000</td>\n",
       "      <td>69.000000</td>\n",
       "      <td>-18.000000</td>\n",
       "      <td>-116.000000</td>\n",
       "      <td>-18.000000</td>\n",
       "      <td>0.000000</td>\n",
       "      <td>0.000000</td>\n",
       "      <td>1.000000</td>\n",
       "      <td>0.00000</td>\n",
       "      <td>0.000000</td>\n",
       "    </tr>\n",
       "    <tr>\n",
       "      <th>25%</th>\n",
       "      <td>81.000000</td>\n",
       "      <td>232.000000</td>\n",
       "      <td>81.000000</td>\n",
       "      <td>-2.000000</td>\n",
       "      <td>-17.000000</td>\n",
       "      <td>-2.000000</td>\n",
       "      <td>19.000000</td>\n",
       "      <td>21.000000</td>\n",
       "      <td>39.000000</td>\n",
       "      <td>0.48300</td>\n",
       "      <td>0.000000</td>\n",
       "    </tr>\n",
       "    <tr>\n",
       "      <th>50%</th>\n",
       "      <td>82.000000</td>\n",
       "      <td>248.000000</td>\n",
       "      <td>82.000000</td>\n",
       "      <td>0.000000</td>\n",
       "      <td>0.000000</td>\n",
       "      <td>0.000000</td>\n",
       "      <td>97.000000</td>\n",
       "      <td>96.000000</td>\n",
       "      <td>201.000000</td>\n",
       "      <td>0.50000</td>\n",
       "      <td>0.500000</td>\n",
       "    </tr>\n",
       "    <tr>\n",
       "      <th>75%</th>\n",
       "      <td>83.000000</td>\n",
       "      <td>260.000000</td>\n",
       "      <td>83.000000</td>\n",
       "      <td>2.000000</td>\n",
       "      <td>17.000000</td>\n",
       "      <td>2.000000</td>\n",
       "      <td>201.000000</td>\n",
       "      <td>183.000000</td>\n",
       "      <td>380.000000</td>\n",
       "      <td>0.52700</td>\n",
       "      <td>1.000000</td>\n",
       "    </tr>\n",
       "    <tr>\n",
       "      <th>max</th>\n",
       "      <td>90.000000</td>\n",
       "      <td>311.000000</td>\n",
       "      <td>90.000000</td>\n",
       "      <td>18.000000</td>\n",
       "      <td>116.000000</td>\n",
       "      <td>18.000000</td>\n",
       "      <td>318.000000</td>\n",
       "      <td>319.000000</td>\n",
       "      <td>637.000000</td>\n",
       "      <td>1.00000</td>\n",
       "      <td>1.000000</td>\n",
       "    </tr>\n",
       "  </tbody>\n",
       "</table>\n",
       "</div>"
      ],
      "text/plain": [
       "                 HT            WT            WS       HT_DIFF       WT_DIFF  \\\n",
       "count  27516.000000  27516.000000  27516.000000  27516.000000  27516.000000   \n",
       "mean      81.480702    243.976595     81.480702      0.000000      0.000000   \n",
       "std        2.846198     24.522892      2.846198      2.937832     27.243715   \n",
       "min       69.000000    160.000000     69.000000    -18.000000   -116.000000   \n",
       "25%       81.000000    232.000000     81.000000     -2.000000    -17.000000   \n",
       "50%       82.000000    248.000000     82.000000      0.000000      0.000000   \n",
       "75%       83.000000    260.000000     83.000000      2.000000     17.000000   \n",
       "max       90.000000    311.000000     90.000000     18.000000    116.000000   \n",
       "\n",
       "            WS_DIFF  JumpBallWins  JumpBallLosses      TotalJBs     JBWinPct  \\\n",
       "count  27516.000000  27516.000000    27516.000000  27516.000000  27516.00000   \n",
       "mean       0.000000    114.022750      111.558729    225.581480      0.49999   \n",
       "std        2.937832     96.527233       93.440415    189.651065      0.08872   \n",
       "min      -18.000000      0.000000        0.000000      1.000000      0.00000   \n",
       "25%       -2.000000     19.000000       21.000000     39.000000      0.48300   \n",
       "50%        0.000000     97.000000       96.000000    201.000000      0.50000   \n",
       "75%        2.000000    201.000000      183.000000    380.000000      0.52700   \n",
       "max       18.000000    318.000000      319.000000    637.000000      1.00000   \n",
       "\n",
       "                Won  \n",
       "count  27516.000000  \n",
       "mean       0.500000  \n",
       "std        0.500009  \n",
       "min        0.000000  \n",
       "25%        0.000000  \n",
       "50%        0.500000  \n",
       "75%        1.000000  \n",
       "max        1.000000  "
      ]
     },
     "execution_count": 91,
     "metadata": {},
     "output_type": "execute_result"
    }
   ],
   "source": [
    "final_df.describe()"
   ]
  },
  {
   "cell_type": "markdown",
   "id": "a0d6e0fa-b94d-4830-b353-6fba8c9837ee",
   "metadata": {},
   "source": [
    "# MODELING"
   ]
  },
  {
   "cell_type": "code",
   "execution_count": 92,
   "id": "ef2230a7-7af0-4211-92cd-6f52d03eba48",
   "metadata": {},
   "outputs": [
    {
     "name": "stderr",
     "output_type": "stream",
     "text": [
      "/usr/local/lib/python3.9/site-packages/xgboost/compat.py:36: FutureWarning: pandas.Int64Index is deprecated and will be removed from pandas in a future version. Use pandas.Index with the appropriate dtype instead.\n",
      "  from pandas import MultiIndex, Int64Index\n"
     ]
    }
   ],
   "source": [
    "from sklearn.linear_model import LogisticRegression\n",
    "from sklearn.preprocessing import StandardScaler\n",
    "from sklearn.model_selection import train_test_split\n",
    "from sklearn.metrics import accuracy_score\n",
    "from sklearn.metrics import classification_report\n",
    "from sklearn.model_selection import RandomizedSearchCV\n",
    "from sklearn.metrics import recall_score\n",
    "from sklearn.svm import SVC\n",
    "import xgboost as xgb\n",
    "from sklearn.preprocessing import Normalizer"
   ]
  },
  {
   "cell_type": "code",
   "execution_count": 133,
   "id": "624bcad1-00cd-4427-9c48-d1e867f58bf0",
   "metadata": {},
   "outputs": [],
   "source": [
    "# subset\n",
    "gt_10 = final_df[final_df['TotalJBs'] >= 500].copy()"
   ]
  },
  {
   "cell_type": "code",
   "execution_count": 134,
   "id": "253b670c-5b65-4dd9-88e9-06f7d93f38cd",
   "metadata": {},
   "outputs": [],
   "source": [
    "train, test = train_test_split(gt_10.drop('PLAYER_ID', axis=1), test_size=.20, random_state=2122, stratify=gt_10['Won'])"
   ]
  },
  {
   "cell_type": "code",
   "execution_count": 135,
   "id": "4ceed444-7484-438f-8a16-a80d84f10802",
   "metadata": {},
   "outputs": [],
   "source": [
    "X_train = train.drop('Won', axis=1).copy()\n",
    "y_train = train['Won'].copy()\n",
    "X_test = test.drop('Won', axis=1).copy()\n",
    "y_test = test['Won'].copy()"
   ]
  },
  {
   "cell_type": "code",
   "execution_count": 151,
   "id": "09317da2-658d-4301-9ce9-c1f3a82ceca2",
   "metadata": {},
   "outputs": [
    {
     "data": {
      "text/html": [
       "<div>\n",
       "<style scoped>\n",
       "    .dataframe tbody tr th:only-of-type {\n",
       "        vertical-align: middle;\n",
       "    }\n",
       "\n",
       "    .dataframe tbody tr th {\n",
       "        vertical-align: top;\n",
       "    }\n",
       "\n",
       "    .dataframe thead th {\n",
       "        text-align: right;\n",
       "    }\n",
       "</style>\n",
       "<table border=\"1\" class=\"dataframe\">\n",
       "  <thead>\n",
       "    <tr style=\"text-align: right;\">\n",
       "      <th></th>\n",
       "      <th>HT</th>\n",
       "      <th>WT</th>\n",
       "      <th>WS</th>\n",
       "      <th>HT_DIFF</th>\n",
       "      <th>WT_DIFF</th>\n",
       "      <th>WS_DIFF</th>\n",
       "      <th>JumpBallWins</th>\n",
       "      <th>JumpBallLosses</th>\n",
       "      <th>TotalJBs</th>\n",
       "      <th>JBWinPct</th>\n",
       "    </tr>\n",
       "  </thead>\n",
       "  <tbody>\n",
       "    <tr>\n",
       "      <th>1405</th>\n",
       "      <td>82</td>\n",
       "      <td>279</td>\n",
       "      <td>82</td>\n",
       "      <td>-1</td>\n",
       "      <td>14</td>\n",
       "      <td>-1</td>\n",
       "      <td>265.0</td>\n",
       "      <td>263.0</td>\n",
       "      <td>528.0</td>\n",
       "      <td>0.502</td>\n",
       "    </tr>\n",
       "    <tr>\n",
       "      <th>16246</th>\n",
       "      <td>85</td>\n",
       "      <td>258</td>\n",
       "      <td>85</td>\n",
       "      <td>2</td>\n",
       "      <td>-7</td>\n",
       "      <td>2</td>\n",
       "      <td>262.0</td>\n",
       "      <td>264.0</td>\n",
       "      <td>526.0</td>\n",
       "      <td>0.498</td>\n",
       "    </tr>\n",
       "    <tr>\n",
       "      <th>645</th>\n",
       "      <td>84</td>\n",
       "      <td>282</td>\n",
       "      <td>84</td>\n",
       "      <td>2</td>\n",
       "      <td>12</td>\n",
       "      <td>2</td>\n",
       "      <td>252.0</td>\n",
       "      <td>266.0</td>\n",
       "      <td>518.0</td>\n",
       "      <td>0.486</td>\n",
       "    </tr>\n",
       "    <tr>\n",
       "      <th>5114</th>\n",
       "      <td>85</td>\n",
       "      <td>258</td>\n",
       "      <td>85</td>\n",
       "      <td>6</td>\n",
       "      <td>1</td>\n",
       "      <td>6</td>\n",
       "      <td>262.0</td>\n",
       "      <td>264.0</td>\n",
       "      <td>526.0</td>\n",
       "      <td>0.498</td>\n",
       "    </tr>\n",
       "    <tr>\n",
       "      <th>2537</th>\n",
       "      <td>83</td>\n",
       "      <td>265</td>\n",
       "      <td>83</td>\n",
       "      <td>0</td>\n",
       "      <td>15</td>\n",
       "      <td>0</td>\n",
       "      <td>318.0</td>\n",
       "      <td>319.0</td>\n",
       "      <td>637.0</td>\n",
       "      <td>0.499</td>\n",
       "    </tr>\n",
       "    <tr>\n",
       "      <th>...</th>\n",
       "      <td>...</td>\n",
       "      <td>...</td>\n",
       "      <td>...</td>\n",
       "      <td>...</td>\n",
       "      <td>...</td>\n",
       "      <td>...</td>\n",
       "      <td>...</td>\n",
       "      <td>...</td>\n",
       "      <td>...</td>\n",
       "      <td>...</td>\n",
       "    </tr>\n",
       "    <tr>\n",
       "      <th>2639</th>\n",
       "      <td>83</td>\n",
       "      <td>265</td>\n",
       "      <td>83</td>\n",
       "      <td>-1</td>\n",
       "      <td>15</td>\n",
       "      <td>-1</td>\n",
       "      <td>318.0</td>\n",
       "      <td>319.0</td>\n",
       "      <td>637.0</td>\n",
       "      <td>0.499</td>\n",
       "    </tr>\n",
       "    <tr>\n",
       "      <th>19023</th>\n",
       "      <td>82</td>\n",
       "      <td>260</td>\n",
       "      <td>82</td>\n",
       "      <td>3</td>\n",
       "      <td>51</td>\n",
       "      <td>3</td>\n",
       "      <td>254.0</td>\n",
       "      <td>254.0</td>\n",
       "      <td>508.0</td>\n",
       "      <td>0.500</td>\n",
       "    </tr>\n",
       "    <tr>\n",
       "      <th>15824</th>\n",
       "      <td>83</td>\n",
       "      <td>265</td>\n",
       "      <td>83</td>\n",
       "      <td>0</td>\n",
       "      <td>15</td>\n",
       "      <td>0</td>\n",
       "      <td>318.0</td>\n",
       "      <td>319.0</td>\n",
       "      <td>637.0</td>\n",
       "      <td>0.499</td>\n",
       "    </tr>\n",
       "    <tr>\n",
       "      <th>19030</th>\n",
       "      <td>82</td>\n",
       "      <td>260</td>\n",
       "      <td>82</td>\n",
       "      <td>-1</td>\n",
       "      <td>20</td>\n",
       "      <td>-1</td>\n",
       "      <td>254.0</td>\n",
       "      <td>254.0</td>\n",
       "      <td>508.0</td>\n",
       "      <td>0.500</td>\n",
       "    </tr>\n",
       "    <tr>\n",
       "      <th>18894</th>\n",
       "      <td>82</td>\n",
       "      <td>260</td>\n",
       "      <td>82</td>\n",
       "      <td>-2</td>\n",
       "      <td>-22</td>\n",
       "      <td>-2</td>\n",
       "      <td>254.0</td>\n",
       "      <td>254.0</td>\n",
       "      <td>508.0</td>\n",
       "      <td>0.500</td>\n",
       "    </tr>\n",
       "  </tbody>\n",
       "</table>\n",
       "<p>2655 rows × 10 columns</p>\n",
       "</div>"
      ],
      "text/plain": [
       "       HT   WT  WS  HT_DIFF  WT_DIFF  WS_DIFF  JumpBallWins  JumpBallLosses  \\\n",
       "1405   82  279  82       -1       14       -1         265.0           263.0   \n",
       "16246  85  258  85        2       -7        2         262.0           264.0   \n",
       "645    84  282  84        2       12        2         252.0           266.0   \n",
       "5114   85  258  85        6        1        6         262.0           264.0   \n",
       "2537   83  265  83        0       15        0         318.0           319.0   \n",
       "...    ..  ...  ..      ...      ...      ...           ...             ...   \n",
       "2639   83  265  83       -1       15       -1         318.0           319.0   \n",
       "19023  82  260  82        3       51        3         254.0           254.0   \n",
       "15824  83  265  83        0       15        0         318.0           319.0   \n",
       "19030  82  260  82       -1       20       -1         254.0           254.0   \n",
       "18894  82  260  82       -2      -22       -2         254.0           254.0   \n",
       "\n",
       "       TotalJBs  JBWinPct  \n",
       "1405      528.0     0.502  \n",
       "16246     526.0     0.498  \n",
       "645       518.0     0.486  \n",
       "5114      526.0     0.498  \n",
       "2537      637.0     0.499  \n",
       "...         ...       ...  \n",
       "2639      637.0     0.499  \n",
       "19023     508.0     0.500  \n",
       "15824     637.0     0.499  \n",
       "19030     508.0     0.500  \n",
       "18894     508.0     0.500  \n",
       "\n",
       "[2655 rows x 10 columns]"
      ]
     },
     "execution_count": 151,
     "metadata": {},
     "output_type": "execute_result"
    }
   ],
   "source": [
    "X_train"
   ]
  },
  {
   "cell_type": "code",
   "execution_count": 136,
   "id": "b57e2c37-c96a-49a0-9393-e8c16a24afdd",
   "metadata": {},
   "outputs": [],
   "source": [
    "std = StandardScaler()\n",
    "# norm = Normalizer()"
   ]
  },
  {
   "cell_type": "code",
   "execution_count": 137,
   "id": "515b1c95-e894-4cd8-a10a-30441167b0d7",
   "metadata": {},
   "outputs": [],
   "source": [
    "X_train_prep = std.fit_transform(X_train)\n",
    "X_test_prep = std.transform(X_test)\n",
    "# X_train_prep = norm.fit_transform(X_train)\n",
    "# X_test_prep = norm.transform(X_test)"
   ]
  },
  {
   "cell_type": "code",
   "execution_count": 138,
   "id": "54eb03f2-92fb-47d1-a501-82c1de1dfc9f",
   "metadata": {},
   "outputs": [],
   "source": [
    "log_clf = LogisticRegression(max_iter=1000)\n",
    "# svm_clf = SVC()\n",
    "# xgb_clf = xgb.XGBClassifier(gamma=.1)"
   ]
  },
  {
   "cell_type": "code",
   "execution_count": 139,
   "id": "7618bf24-d3bb-434b-8658-801ea866018f",
   "metadata": {},
   "outputs": [
    {
     "data": {
      "text/plain": [
       "LogisticRegression(max_iter=1000)"
      ]
     },
     "execution_count": 139,
     "metadata": {},
     "output_type": "execute_result"
    }
   ],
   "source": [
    "log_clf.fit(X_train_prep, y_train)\n",
    "# svm_clf.fit(X_train_prep, y_train)\n",
    "# xgb_clf.fit(X_train_prep, y_train)"
   ]
  },
  {
   "cell_type": "code",
   "execution_count": 140,
   "id": "4564f0cf-5bc9-482d-9ce7-52ed0ccc058c",
   "metadata": {},
   "outputs": [],
   "source": [
    "log_preds = log_clf.predict(X_test_prep)\n",
    "# svm_preds = svm_clf.predict(X_test_prep)\n",
    "# xgb_preds = xgb_clf.predict(X_test_prep)"
   ]
  },
  {
   "cell_type": "code",
   "execution_count": 141,
   "id": "884c2c7b-57d2-4ee1-864a-91bfdbb1abf3",
   "metadata": {},
   "outputs": [
    {
     "data": {
      "text/plain": [
       "0.4924698795180723"
      ]
     },
     "execution_count": 141,
     "metadata": {},
     "output_type": "execute_result"
    }
   ],
   "source": [
    "# accuracy_score(y_test, xgb_preds)\n",
    "# accuracy_score(y_test, svm_preds)\n",
    "accuracy_score(y_test, log_preds)"
   ]
  },
  {
   "cell_type": "code",
   "execution_count": 143,
   "id": "d27f3284-81c2-4bbb-b90f-0e455eeb1db3",
   "metadata": {},
   "outputs": [
    {
     "name": "stdout",
     "output_type": "stream",
     "text": [
      "              precision    recall  f1-score   support\n",
      "\n",
      "           0       0.49      0.46      0.47       330\n",
      "           1       0.50      0.53      0.51       334\n",
      "\n",
      "    accuracy                           0.49       664\n",
      "   macro avg       0.49      0.49      0.49       664\n",
      "weighted avg       0.49      0.49      0.49       664\n",
      "\n"
     ]
    }
   ],
   "source": [
    "print(classification_report(y_test, log_preds))"
   ]
  },
  {
   "cell_type": "code",
   "execution_count": 144,
   "id": "e84e6b7e-f436-40fe-afb7-f3dd393e0140",
   "metadata": {},
   "outputs": [],
   "source": [
    "param_grid = [\n",
    "    {'max_iter': random.randint(100,1000,3), 'C': [.1,.5,1], 'penalty': ['l2'], 'solver': ['lbfgs'], 'tol': [.01, .001, .0001]},\n",
    "    {'max_iter': random.randint(100,1000,3), 'penalty': ['none'], 'tol': [.01, .001, .0001]},  \n",
    "    {'max_iter': random.randint(100,1000,3), 'C': [.1,.5,1], 'penalty': ['l1'], 'solver': ['liblinear'], 'tol': [.01, .001, .0001]},\n",
    "    {'max_iter': random.randint(100,1000,3), 'C': [.1,.5,1], 'penalty': ['elasticnet'], 'solver': ['saga'], 'l1_ratio':[.25, .5, .75], 'tol': [.01, .001, .0001]}\n",
    "]"
   ]
  },
  {
   "cell_type": "code",
   "execution_count": 145,
   "id": "a798ba62-a2b3-448c-b93c-12851e03f5a5",
   "metadata": {},
   "outputs": [
    {
     "data": {
      "text/plain": [
       "RandomizedSearchCV(cv=5, estimator=LogisticRegression(),\n",
       "                   param_distributions=[{'C': [0.1, 0.5, 1],\n",
       "                                         'max_iter': array([436, 485, 810]),\n",
       "                                         'penalty': ['l2'], 'solver': ['lbfgs'],\n",
       "                                         'tol': [0.01, 0.001, 0.0001]},\n",
       "                                        {'max_iter': array([208, 586, 540]),\n",
       "                                         'penalty': ['none'],\n",
       "                                         'tol': [0.01, 0.001, 0.0001]},\n",
       "                                        {'C': [0.1, 0.5, 1],\n",
       "                                         'max_iter': array([677, 594, 647]),\n",
       "                                         'penalty': ['l1'],\n",
       "                                         'solver': ['liblinear'],\n",
       "                                         'tol': [0.01, 0.001, 0.0001]},\n",
       "                                        {'C': [0.1, 0.5, 1],\n",
       "                                         'l1_ratio': [0.25, 0.5, 0.75],\n",
       "                                         'max_iter': array([874, 952, 728]),\n",
       "                                         'penalty': ['elasticnet'],\n",
       "                                         'solver': ['saga'],\n",
       "                                         'tol': [0.01, 0.001, 0.0001]}],\n",
       "                   return_train_score=True, scoring='accuracy')"
      ]
     },
     "execution_count": 145,
     "metadata": {},
     "output_type": "execute_result"
    }
   ],
   "source": [
    "log_clf = LogisticRegression()\n",
    "log_grid = RandomizedSearchCV(log_clf, param_grid, cv=5, scoring='accuracy',\n",
    "                           return_train_score=True)\n",
    "log_grid.fit(X_train_prep, y_train)"
   ]
  },
  {
   "cell_type": "code",
   "execution_count": 146,
   "id": "978663db-932f-43c8-a11f-e5c734109c72",
   "metadata": {},
   "outputs": [
    {
     "data": {
      "text/html": [
       "<div>\n",
       "<style scoped>\n",
       "    .dataframe tbody tr th:only-of-type {\n",
       "        vertical-align: middle;\n",
       "    }\n",
       "\n",
       "    .dataframe tbody tr th {\n",
       "        vertical-align: top;\n",
       "    }\n",
       "\n",
       "    .dataframe thead th {\n",
       "        text-align: right;\n",
       "    }\n",
       "</style>\n",
       "<table border=\"1\" class=\"dataframe\">\n",
       "  <thead>\n",
       "    <tr style=\"text-align: right;\">\n",
       "      <th></th>\n",
       "      <th>Train_Error</th>\n",
       "      <th>Test_Error</th>\n",
       "      <th>Parameter_Set</th>\n",
       "    </tr>\n",
       "  </thead>\n",
       "  <tbody>\n",
       "    <tr>\n",
       "      <th>0</th>\n",
       "      <td>0.515819</td>\n",
       "      <td>0.492655</td>\n",
       "      <td>{'tol': 0.0001, 'solver': 'liblinear', 'penalty': 'l1', 'max_iter': 594, 'C': 1}</td>\n",
       "    </tr>\n",
       "    <tr>\n",
       "      <th>1</th>\n",
       "      <td>0.514595</td>\n",
       "      <td>0.492279</td>\n",
       "      <td>{'tol': 0.01, 'solver': 'lbfgs', 'penalty': 'l2', 'max_iter': 810, 'C': 1}</td>\n",
       "    </tr>\n",
       "    <tr>\n",
       "      <th>2</th>\n",
       "      <td>0.515348</td>\n",
       "      <td>0.491525</td>\n",
       "      <td>{'tol': 0.0001, 'solver': 'lbfgs', 'penalty': 'l2', 'max_iter': 810, 'C': 0.1}</td>\n",
       "    </tr>\n",
       "    <tr>\n",
       "      <th>3</th>\n",
       "      <td>0.514972</td>\n",
       "      <td>0.491525</td>\n",
       "      <td>{'tol': 0.001, 'solver': 'saga', 'penalty': 'elasticnet', 'max_iter': 952, 'l1_ratio': 0.25, 'C': 0.5}</td>\n",
       "    </tr>\n",
       "    <tr>\n",
       "      <th>4</th>\n",
       "      <td>0.514972</td>\n",
       "      <td>0.491149</td>\n",
       "      <td>{'tol': 0.01, 'solver': 'saga', 'penalty': 'elasticnet', 'max_iter': 874, 'l1_ratio': 0.25, 'C': 0.5}</td>\n",
       "    </tr>\n",
       "    <tr>\n",
       "      <th>5</th>\n",
       "      <td>0.515348</td>\n",
       "      <td>0.491525</td>\n",
       "      <td>{'tol': 0.001, 'solver': 'lbfgs', 'penalty': 'l2', 'max_iter': 485, 'C': 0.1}</td>\n",
       "    </tr>\n",
       "    <tr>\n",
       "      <th>6</th>\n",
       "      <td>0.516102</td>\n",
       "      <td>0.491149</td>\n",
       "      <td>{'tol': 0.0001, 'solver': 'saga', 'penalty': 'elasticnet', 'max_iter': 874, 'l1_ratio': 0.75, 'C': 0.1}</td>\n",
       "    </tr>\n",
       "    <tr>\n",
       "      <th>7</th>\n",
       "      <td>0.516290</td>\n",
       "      <td>0.485499</td>\n",
       "      <td>{'tol': 0.0001, 'penalty': 'none', 'max_iter': 540}</td>\n",
       "    </tr>\n",
       "    <tr>\n",
       "      <th>8</th>\n",
       "      <td>0.515443</td>\n",
       "      <td>0.492655</td>\n",
       "      <td>{'tol': 0.01, 'solver': 'saga', 'penalty': 'elasticnet', 'max_iter': 952, 'l1_ratio': 0.75, 'C': 1}</td>\n",
       "    </tr>\n",
       "    <tr>\n",
       "      <th>9</th>\n",
       "      <td>0.517326</td>\n",
       "      <td>0.491902</td>\n",
       "      <td>{'tol': 0.01, 'solver': 'saga', 'penalty': 'elasticnet', 'max_iter': 874, 'l1_ratio': 0.5, 'C': 0.1}</td>\n",
       "    </tr>\n",
       "  </tbody>\n",
       "</table>\n",
       "</div>"
      ],
      "text/plain": [
       "   Train_Error  Test_Error  \\\n",
       "0     0.515819    0.492655   \n",
       "1     0.514595    0.492279   \n",
       "2     0.515348    0.491525   \n",
       "3     0.514972    0.491525   \n",
       "4     0.514972    0.491149   \n",
       "5     0.515348    0.491525   \n",
       "6     0.516102    0.491149   \n",
       "7     0.516290    0.485499   \n",
       "8     0.515443    0.492655   \n",
       "9     0.517326    0.491902   \n",
       "\n",
       "                                                                                             Parameter_Set  \n",
       "0                         {'tol': 0.0001, 'solver': 'liblinear', 'penalty': 'l1', 'max_iter': 594, 'C': 1}  \n",
       "1                               {'tol': 0.01, 'solver': 'lbfgs', 'penalty': 'l2', 'max_iter': 810, 'C': 1}  \n",
       "2                           {'tol': 0.0001, 'solver': 'lbfgs', 'penalty': 'l2', 'max_iter': 810, 'C': 0.1}  \n",
       "3   {'tol': 0.001, 'solver': 'saga', 'penalty': 'elasticnet', 'max_iter': 952, 'l1_ratio': 0.25, 'C': 0.5}  \n",
       "4    {'tol': 0.01, 'solver': 'saga', 'penalty': 'elasticnet', 'max_iter': 874, 'l1_ratio': 0.25, 'C': 0.5}  \n",
       "5                            {'tol': 0.001, 'solver': 'lbfgs', 'penalty': 'l2', 'max_iter': 485, 'C': 0.1}  \n",
       "6  {'tol': 0.0001, 'solver': 'saga', 'penalty': 'elasticnet', 'max_iter': 874, 'l1_ratio': 0.75, 'C': 0.1}  \n",
       "7                                                      {'tol': 0.0001, 'penalty': 'none', 'max_iter': 540}  \n",
       "8      {'tol': 0.01, 'solver': 'saga', 'penalty': 'elasticnet', 'max_iter': 952, 'l1_ratio': 0.75, 'C': 1}  \n",
       "9     {'tol': 0.01, 'solver': 'saga', 'penalty': 'elasticnet', 'max_iter': 874, 'l1_ratio': 0.5, 'C': 0.1}  "
      ]
     },
     "execution_count": 146,
     "metadata": {},
     "output_type": "execute_result"
    }
   ],
   "source": [
    "cvres = log_grid.cv_results_\n",
    "grid_log_df = pd.DataFrame({\n",
    "    \"Train_Error\": cvres[\"mean_train_score\"],\n",
    "    \"Test_Error\": cvres[\"mean_test_score\"],\n",
    "    \"Parameter_Set\": cvres[\"params\"],\n",
    "}).sort_index()\n",
    "pd.set_option('display.max_colwidth', None)\n",
    "grid_log_df.tail(10)"
   ]
  },
  {
   "cell_type": "code",
   "execution_count": 147,
   "id": "6b622154-4fc7-479d-94bf-ff6aa197fce9",
   "metadata": {},
   "outputs": [],
   "source": [
    "final_model = log_grid.best_estimator_\n",
    "log_preds = final_model.predict(X_test_prep)\n",
    "logmod_pred_score = accuracy_score(y_test, log_preds)\n",
    "logmod_recall = recall_score(y_test, log_preds, pos_label=1)"
   ]
  },
  {
   "cell_type": "code",
   "execution_count": 148,
   "id": "7f346479-baa5-414b-a57b-7178db054d2f",
   "metadata": {},
   "outputs": [
    {
     "name": "stdout",
     "output_type": "stream",
     "text": [
      "Train accuracy = 49.27%\n",
      "Test accuracy = 48.34%\n",
      "Test Recall = 52.10%\n"
     ]
    }
   ],
   "source": [
    "print('Train accuracy = %.2f%%' % ((log_grid.best_score_) * 100))\n",
    "print('Test accuracy = %.2f%%' % ((logmod_pred_score) * 100))\n",
    "print('Test Recall = %.2f%%' % (logmod_recall * 100))"
   ]
  },
  {
   "cell_type": "code",
   "execution_count": 149,
   "id": "b4e70b86-6765-451e-9f4a-1bf96bbd422c",
   "metadata": {},
   "outputs": [
    {
     "data": {
      "image/png": "[encoded data removed]",
      "text/plain": [
       "<Figure size 1008x1008 with 2 Axes>"
      ]
     },
     "metadata": {
      "needs_background": "light"
     },
     "output_type": "display_data"
    }
   ],
   "source": [
    "plt.figure(figsize = (14,14))\n",
    "sns.heatmap(train.corr())\n",
    "plt.show()"
   ]
  },
  {
   "cell_type": "code",
   "execution_count": null,
   "id": "f062f467-54e2-4185-9fdd-589c0b811ffa",
   "metadata": {},
   "outputs": [],
   "source": []
  }
 ],
 "metadata": {
  "kernelspec": {
   "display_name": "Python 3 (ipykernel)",
   "language": "python",
   "name": "python3"
  },
  "language_info": {
   "codemirror_mode": {
    "name": "ipython",
    "version": 3
   },
   "file_extension": ".py",
   "mimetype": "text/x-python",
   "name": "python",
   "nbconvert_exporter": "python",
   "pygments_lexer": "ipython3",
   "version": "3.10.1"
  }
 },
 "nbformat": 4,
 "nbformat_minor": 5
}
